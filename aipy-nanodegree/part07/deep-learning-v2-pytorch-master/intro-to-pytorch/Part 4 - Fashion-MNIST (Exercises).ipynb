{
 "cells": [
  {
   "cell_type": "markdown",
   "metadata": {},
   "source": [
    "# Classifying Fashion-MNIST\n",
    "\n",
    "Now it's your turn to build and train a neural network. You'll be using the [Fashion-MNIST dataset](https://github.com/zalandoresearch/fashion-mnist), a drop-in replacement for the MNIST dataset. MNIST is actually quite trivial with neural networks where you can easily achieve better than 97% accuracy. Fashion-MNIST is a set of 28x28 greyscale images of clothes. It's more complex than MNIST, so it's a better representation of the actual performance of your network, and a better representation of datasets you'll use in the real world.\n",
    "\n",
    "<img src='assets/fashion-mnist-sprite.png' width=500px>\n",
    "\n",
    "In this notebook, you'll build your own neural network. For the most part, you could just copy and paste the code from Part 3, but you wouldn't be learning. It's important for you to write the code yourself and get it to work. Feel free to consult the previous notebooks though as you work through this.\n",
    "\n",
    "First off, let's load the dataset through torchvision."
   ]
  },
  {
   "cell_type": "code",
   "execution_count": 1,
   "metadata": {},
   "outputs": [
    {
     "name": "stdout",
     "output_type": "stream",
     "text": [
      "Downloading http://fashion-mnist.s3-website.eu-central-1.amazonaws.com/train-images-idx3-ubyte.gz to C:\\Users\\Khanh Nguyen/.pytorch/F_MNIST_data/FashionMNIST\\raw\\train-images-idx3-ubyte.gz\n"
     ]
    },
    {
     "name": "stderr",
     "output_type": "stream",
     "text": [
      "100%|█████████▉| 26402816/26421880 [01:13<00:00, 353857.92it/s]"
     ]
    },
    {
     "name": "stdout",
     "output_type": "stream",
     "text": [
      "Extracting C:\\Users\\Khanh Nguyen/.pytorch/F_MNIST_data/FashionMNIST\\raw\\train-images-idx3-ubyte.gz\n",
      "Downloading http://fashion-mnist.s3-website.eu-central-1.amazonaws.com/train-labels-idx1-ubyte.gz to C:\\Users\\Khanh Nguyen/.pytorch/F_MNIST_data/FashionMNIST\\raw\\train-labels-idx1-ubyte.gz\n"
     ]
    },
    {
     "name": "stderr",
     "output_type": "stream",
     "text": [
      "\n",
      "0it [00:00, ?it/s]\n",
      "  0%|          | 0/29515 [00:00<?, ?it/s]\n",
      " 56%|█████▌    | 16384/29515 [00:00<00:00, 94747.06it/s]\n",
      "32768it [00:00, 54603.64it/s]                           "
     ]
    },
    {
     "name": "stdout",
     "output_type": "stream",
     "text": [
      "Extracting C:\\Users\\Khanh Nguyen/.pytorch/F_MNIST_data/FashionMNIST\\raw\\train-labels-idx1-ubyte.gz\n",
      "Downloading http://fashion-mnist.s3-website.eu-central-1.amazonaws.com/t10k-images-idx3-ubyte.gz to C:\\Users\\Khanh Nguyen/.pytorch/F_MNIST_data/FashionMNIST\\raw\\t10k-images-idx3-ubyte.gz\n"
     ]
    },
    {
     "name": "stderr",
     "output_type": "stream",
     "text": [
      "\n",
      "0it [00:00, ?it/s]\n",
      "  0%|          | 0/4422102 [00:00<?, ?it/s]\n",
      "  0%|          | 16384/4422102 [00:00<00:47, 93667.42it/s]\n",
      "  1%|          | 49152/4422102 [00:00<00:39, 109879.25it/s]\n",
      "  2%|▏         | 106496/4422102 [00:00<00:31, 137069.22it/s]\n",
      "  4%|▍         | 172032/4422102 [00:01<00:25, 169050.65it/s]\n",
      "  5%|▌         | 237568/4422102 [00:01<00:20, 201472.22it/s]\n",
      "  7%|▋         | 303104/4422102 [00:01<00:17, 232757.21it/s]\n",
      "  8%|▊         | 368640/4422102 [00:01<00:15, 262447.99it/s]\n",
      " 10%|▉         | 434176/4422102 [00:01<00:13, 287227.98it/s]\n",
      " 11%|█         | 491520/4422102 [00:01<00:13, 298606.53it/s]\n",
      " 13%|█▎        | 557056/4422102 [00:02<00:12, 317289.25it/s]\n",
      " 14%|█▍        | 622592/4422102 [00:02<00:11, 332255.64it/s]\n",
      " 16%|█▌        | 688128/4422102 [00:02<00:10, 341974.28it/s]\n",
      " 17%|█▋        | 753664/4422102 [00:02<00:10, 350802.60it/s]\n",
      " 19%|█▊        | 819200/4422102 [00:02<00:10, 356761.74it/s]\n",
      " 20%|██        | 884736/4422102 [00:03<00:09, 361068.57it/s]\n",
      " 21%|██▏       | 950272/4422102 [00:03<00:09, 364997.40it/s]\n",
      " 23%|██▎       | 1007616/4422102 [00:03<00:09, 353820.99it/s]\n",
      " 24%|██▍       | 1073152/4422102 [00:03<00:09, 355988.87it/s]\n",
      " 26%|██▌       | 1138688/4422102 [00:03<00:09, 361982.92it/s]\n",
      " 27%|██▋       | 1204224/4422102 [00:03<00:08, 363399.21it/s]\n",
      " 29%|██▊       | 1269760/4422102 [00:04<00:08, 366219.41it/s]\n",
      " 30%|███       | 1335296/4422102 [00:04<00:08, 365489.08it/s]\n",
      " 32%|███▏      | 1400832/4422102 [00:04<00:08, 366944.36it/s]\n",
      " 33%|███▎      | 1458176/4422102 [00:04<00:08, 355173.89it/s]\n",
      " 34%|███▍      | 1523712/4422102 [00:04<00:08, 359306.44it/s]\n",
      " 36%|███▌      | 1589248/4422102 [00:04<00:07, 363635.65it/s]\n",
      " 37%|███▋      | 1654784/4422102 [00:05<00:07, 365966.58it/s]\n",
      " 39%|███▉      | 1720320/4422102 [00:05<00:07, 365227.30it/s]\n",
      " 40%|████      | 1785856/4422102 [00:05<00:07, 367025.67it/s]\n",
      " 42%|████▏     | 1843200/4422102 [00:05<00:07, 355071.15it/s]\n",
      " 43%|████▎     | 1908736/4422102 [00:05<00:06, 359582.74it/s]\n",
      " 45%|████▍     | 1974272/4422102 [00:06<00:06, 359004.77it/s]\n",
      " 46%|████▌     | 2039808/4422102 [00:06<00:06, 358451.05it/s]\n",
      " 48%|████▊     | 2105344/4422102 [00:06<00:06, 361598.17it/s]\n",
      " 49%|████▉     | 2170880/4422102 [00:06<00:06, 362256.81it/s]\n",
      " 51%|█████     | 2236416/4422102 [00:06<00:06, 363561.38it/s]\n",
      " 52%|█████▏    | 2301952/4422102 [00:06<00:05, 364044.15it/s]\n",
      " 53%|█████▎    | 2359296/4422102 [00:07<00:05, 351072.85it/s]\n",
      " 55%|█████▍    | 2424832/4422102 [00:07<00:05, 356540.66it/s]\n",
      " 56%|█████▌    | 2465792/4422102 [00:07<00:05, 354753.11it/s]\n",
      " 57%|█████▋    | 2523136/4422102 [00:07<00:05, 352273.98it/s]\n",
      " 59%|█████▊    | 2588672/4422102 [00:07<00:05, 358685.79it/s]\n",
      " 60%|██████    | 2654208/4422102 [00:07<00:04, 363768.79it/s]\n",
      " 62%|██████▏   | 2719744/4422102 [00:08<00:04, 366449.08it/s]\n",
      " 63%|██████▎   | 2785280/4422102 [00:08<00:04, 361397.52it/s]\n",
      " 64%|██████▍   | 2842624/4422102 [00:08<00:03, 396333.57it/s]\n",
      " 65%|██████▌   | 2883584/4422102 [00:08<00:04, 371267.06it/s]\n",
      " 66%|██████▌   | 2924544/4422102 [00:08<00:04, 353960.49it/s]\n",
      " 67%|██████▋   | 2973696/4422102 [00:08<00:04, 347587.09it/s]\n",
      " 69%|██████▊   | 3039232/4422102 [00:08<00:03, 354395.66it/s]\n",
      " 70%|███████   | 3104768/4422102 [00:09<00:03, 356933.05it/s]\n",
      " 72%|███████▏  | 3170304/4422102 [00:09<00:03, 327121.16it/s]\n",
      " 73%|███████▎  | 3235840/4422102 [00:09<00:03, 339771.38it/s]\n",
      " 75%|███████▍  | 3301376/4422102 [00:09<00:03, 347276.92it/s]\n",
      " 76%|███████▌  | 3358720/4422102 [00:09<00:03, 342944.63it/s]\n",
      " 77%|███████▋  | 3424256/4422102 [00:10<00:02, 351131.66it/s]\n",
      " 79%|███████▉  | 3489792/4422102 [00:10<00:02, 355763.47it/s]\n",
      " 80%|████████  | 3547136/4422102 [00:10<00:02, 375271.59it/s]\n",
      " 82%|████████▏ | 3612672/4422102 [00:10<00:02, 374489.85it/s]\n",
      " 83%|████████▎ | 3678208/4422102 [00:10<00:01, 373462.17it/s]\n",
      " 85%|████████▍ | 3743744/4422102 [00:10<00:01, 372416.93it/s]\n",
      " 86%|████████▌ | 3809280/4422102 [00:11<00:01, 345984.46it/s]\n",
      " 87%|████████▋ | 3866624/4422102 [00:11<00:01, 371150.88it/s]\n",
      " 88%|████████▊ | 3907584/4422102 [00:11<00:01, 370370.50it/s]\n",
      " 89%|████████▉ | 3948544/4422102 [00:11<00:01, 359935.12it/s]\n",
      " 90%|█████████ | 3997696/4422102 [00:11<00:01, 371768.73it/s]\n",
      " 91%|█████████▏| 4038656/4422102 [00:11<00:01, 370564.62it/s]\n",
      " 92%|█████████▏| 4079616/4422102 [00:11<00:00, 353941.31it/s]\n",
      " 93%|█████████▎| 4128768/4422102 [00:12<00:00, 366705.70it/s]\n",
      " 94%|█████████▍| 4169728/4422102 [00:12<00:00, 370676.32it/s]\n",
      " 95%|█████████▌| 4210688/4422102 [00:12<00:00, 352836.53it/s]\n",
      " 96%|█████████▌| 4251648/4422102 [00:12<00:00, 326377.12it/s]\n",
      " 98%|█████████▊| 4317184/4422102 [00:12<00:00, 339428.42it/s]\n",
      " 99%|█████████▉| 4382720/4422102 [00:12<00:00, 344848.93it/s]"
     ]
    },
    {
     "name": "stdout",
     "output_type": "stream",
     "text": [
      "Extracting C:\\Users\\Khanh Nguyen/.pytorch/F_MNIST_data/FashionMNIST\\raw\\t10k-images-idx3-ubyte.gz\n",
      "Downloading http://fashion-mnist.s3-website.eu-central-1.amazonaws.com/t10k-labels-idx1-ubyte.gz to C:\\Users\\Khanh Nguyen/.pytorch/F_MNIST_data/FashionMNIST\\raw\\t10k-labels-idx1-ubyte.gz\n"
     ]
    },
    {
     "name": "stderr",
     "output_type": "stream",
     "text": [
      "\n",
      "\n",
      "0it [00:00, ?it/s]\n",
      "\n",
      "  0%|          | 0/5148 [00:00<?, ?it/s]\n",
      "\n",
      "8192it [00:00, 19888.99it/s]            "
     ]
    },
    {
     "name": "stdout",
     "output_type": "stream",
     "text": [
      "Extracting C:\\Users\\Khanh Nguyen/.pytorch/F_MNIST_data/FashionMNIST\\raw\\t10k-labels-idx1-ubyte.gz\n",
      "Processing...\n",
      "Done!\n"
     ]
    },
    {
     "name": "stderr",
     "output_type": "stream",
     "text": [
      "26427392it [01:30, 353857.92it/s]                              \n",
      "4423680it [00:25, 344848.93it/s]                             "
     ]
    }
   ],
   "source": [
    "import torch\n",
    "from torchvision import datasets, transforms\n",
    "import helper\n",
    "\n",
    "# Define a transform to normalize the data\n",
    "transform = transforms.Compose([transforms.ToTensor(),\n",
    "                                transforms.Normalize((0.5,), (0.5,))])\n",
    "# Download and load the training data\n",
    "trainset = datasets.FashionMNIST('~/.pytorch/F_MNIST_data/', download=True, train=True, transform=transform)\n",
    "trainloader = torch.utils.data.DataLoader(trainset, batch_size=64, shuffle=True)\n",
    "\n",
    "# Download and load the test data\n",
    "testset = datasets.FashionMNIST('~/.pytorch/F_MNIST_data/', download=True, train=False, transform=transform)\n",
    "testloader = torch.utils.data.DataLoader(testset, batch_size=64, shuffle=True)"
   ]
  },
  {
   "cell_type": "markdown",
   "metadata": {},
   "source": [
    "Here we can see one of the images."
   ]
  },
  {
   "cell_type": "code",
   "execution_count": 2,
   "metadata": {},
   "outputs": [
    {
     "data": {
      "image/png": "[encoded data removed]",
      "text/plain": [
       "<Figure size 432x288 with 1 Axes>"
      ]
     },
     "metadata": {
      "needs_background": "light"
     },
     "output_type": "display_data"
    }
   ],
   "source": [
    "image, label = next(iter(trainloader))"
   ]
  },
  {
   "cell_type": "code",
   "execution_count": 3,
   "metadata": {},
   "outputs": [
    {
     "name": "stdout",
     "output_type": "stream",
     "text": [
      "tensor(5)\n"
     ]
    },
    {
     "data": {
      "image/png": "[encoded data removed]",
      "text/plain": [
       "<Figure size 432x288 with 1 Axes>"
      ]
     },
     "metadata": {
      "needs_background": "light"
     },
     "output_type": "display_data"
    }
   ],
   "source": [
    "\n",
    "print(label[0])\n",
    "helper.imshow(image[0,:]);"
   ]
  },
  {
   "cell_type": "markdown",
   "metadata": {},
   "source": [
    "## Building the network\n",
    "\n",
    "Here you should define your network. As with MNIST, each image is 28x28 which is a total of 784 pixels, and there are 10 classes. You should include at least one hidden layer. We suggest you use ReLU activations for the layers and to return the logits or log-softmax from the forward pass. It's up to you how many layers you add and the size of those layers."
   ]
  },
  {
   "cell_type": "code",
   "execution_count": 18,
   "metadata": {},
   "outputs": [
    {
     "data": {
      "text/plain": [
       "Sequential(\n",
       "  (0): Linear(in_features=784, out_features=512, bias=True)\n",
       "  (1): ReLU()\n",
       "  (2): Linear(in_features=512, out_features=128, bias=True)\n",
       "  (3): ReLU()\n",
       "  (4): Linear(in_features=128, out_features=64, bias=True)\n",
       "  (5): ReLU()\n",
       "  (6): Linear(in_features=64, out_features=10, bias=True)\n",
       "  (7): LogSoftmax()\n",
       ")"
      ]
     },
     "execution_count": 18,
     "metadata": {},
     "output_type": "execute_result"
    }
   ],
   "source": [
    "# TODO: Define your network architecture here\n",
    "from torch import nn, functional as F, optim\n",
    "\n",
    "model = nn.Sequential(nn.Linear(784, 512),\n",
    "                     nn.ReLU(),\n",
    "                     nn.Linear(512, 128),\n",
    "                     nn.ReLU(),\n",
    "                     nn.Linear(128, 64),\n",
    "                     nn.ReLU(),\n",
    "                     nn.Linear(64, 10),\n",
    "                     nn.LogSoftmax(dim=1))\n",
    "model.cuda()"
   ]
  },
  {
   "cell_type": "markdown",
   "metadata": {},
   "source": [
    "# Train the network\n",
    "\n",
    "Now you should create your network and train it. First you'll want to define [the criterion](http://pytorch.org/docs/master/nn.html#loss-functions) ( something like `nn.CrossEntropyLoss`) and [the optimizer](http://pytorch.org/docs/master/optim.html) (typically `optim.SGD` or `optim.Adam`).\n",
    "\n",
    "Then write the training code. Remember the training pass is a fairly straightforward process:\n",
    "\n",
    "* Make a forward pass through the network to get the logits \n",
    "* Use the logits to calculate the loss\n",
    "* Perform a backward pass through the network with `loss.backward()` to calculate the gradients\n",
    "* Take a step with the optimizer to update the weights\n",
    "\n",
    "By adjusting the hyperparameters (hidden units, learning rate, etc), you should be able to get the training loss below 0.4."
   ]
  },
  {
   "cell_type": "code",
   "execution_count": 19,
   "metadata": {},
   "outputs": [],
   "source": [
    "# TODO: Create the network, define the criterion and optimizer\n",
    "criterion = nn.NLLLoss()\n",
    "\n",
    "optimizer = optim.SGD(model.parameters(), lr=0.003)"
   ]
  },
  {
   "cell_type": "code",
   "execution_count": 12,
   "metadata": {},
   "outputs": [
    {
     "name": "stdout",
     "output_type": "stream",
     "text": [
      "14.65625\n"
     ]
    }
   ],
   "source": [
    "print(len(trainloader) / 64)"
   ]
  },
  {
   "cell_type": "code",
   "execution_count": 22,
   "metadata": {},
   "outputs": [
    {
     "name": "stdout",
     "output_type": "stream",
     "text": [
      "Loss: 2.1348369121551514\n",
      "Loss: 1.2439374923706055\n",
      "Loss: 0.7999997138977051\n",
      "Loss: 0.6911473274230957\n",
      "Loss: 0.6293242573738098\n"
     ]
    }
   ],
   "source": [
    "# TODO: Train the network here\n",
    "epochs = 5\n",
    "\n",
    "for i in range(epochs):\n",
    "    total_loss = 0\n",
    "    for xs, ys in trainloader:\n",
    "        xs = xs.view(xs.shape[0], -1).cuda()\n",
    "        ys = ys.cuda()\n",
    "        \n",
    "        optimizer.zero_grad()\n",
    "        \n",
    "        y_hats = model(xs).cuda()\n",
    "        loss = criterion(y_hats, ys)\n",
    "        loss.backward()\n",
    "        \n",
    "        optimizer.step()\n",
    "        \n",
    "        total_loss += loss\n",
    "    else:\n",
    "        print(f\"Loss: {total_loss / len(trainloader)}\")"
   ]
  },
  {
   "cell_type": "code",
   "execution_count": 23,
   "metadata": {},
   "outputs": [],
   "source": [
    "%matplotlib inline\n",
    "%config InlineBackend.figure_format = 'retina'\n",
    "\n",
    "import helper\n",
    "\n",
    "# Test out your network!\n",
    "\n",
    "dataiter = iter(testloader)\n",
    "images, labels = dataiter.next()"
   ]
  },
  {
   "cell_type": "code",
   "execution_count": 29,
   "metadata": {},
   "outputs": [
    {
     "name": "stdout",
     "output_type": "stream",
     "text": [
      "tensor([[0.0224, 0.0004, 0.2515, 0.0107, 0.1400, 0.1215, 0.3003, 0.0008, 0.1510,\n",
      "         0.0015]], device='cuda:0')\n",
      "tensor(6)\n"
     ]
    }
   ],
   "source": [
    "img = images[1]\n",
    "# Convert 2D image to 1D vector\n",
    "img = img.resize_(1, 784)\n",
    "\n",
    "# TODO: Calculate the class probabilities (softmax) for img\n",
    "with torch.no_grad():\n",
    "    log_softmax = model(img.cuda())\n",
    "ps = torch.exp(log_softmax)\n",
    "\n",
    "# Plot the image and probabilities\n",
    "#helper.view_classify(img.cuda().resize_(1, 28, 28), ps, version='Fashion')\n",
    "print(ps)\n",
    "print(labels[1])"
   ]
  }
 ],
 "metadata": {
  "kernelspec": {
   "display_name": "Python 3",
   "language": "python",
   "name": "python3"
  },
  "language_info": {
   "codemirror_mode": {
    "name": "ipython",
    "version": 3
   },
   "file_extension": ".py",
   "mimetype": "text/x-python",
   "name": "python",
   "nbconvert_exporter": "python",
   "pygments_lexer": "ipython3",
   "version": "3.6.8"
  }
 },
 "nbformat": 4,
 "nbformat_minor": 2
}
