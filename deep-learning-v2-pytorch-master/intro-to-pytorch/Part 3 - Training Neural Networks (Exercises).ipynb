{
 "cells": [
  {
   "cell_type": "markdown",
   "metadata": {},
   "source": [
    "# Training Neural Networks\n",
    "\n",
    "The network we built in the previous part isn't so smart, it doesn't know anything about our handwritten digits. Neural networks with non-linear activations work like universal function approximators. There is some function that maps your input to the output. For example, images of handwritten digits to class probabilities. The power of neural networks is that we can train them to approximate this function, and basically any function given enough data and compute time.\n",
    "\n",
    "<img src=\"assets/function_approx.png\" width=500px>\n",
    "\n",
    "At first the network is naive, it doesn't know the function mapping the inputs to the outputs. We train the network by showing it examples of real data, then adjusting the network parameters such that it approximates this function.\n",
    "\n",
    "To find these parameters, we need to know how poorly the network is predicting the real outputs. For this we calculate a **loss function** (also called the cost), a measure of our prediction error. For example, the mean squared loss is often used in regression and binary classification problems\n",
    "\n",
    "$$\n",
    "\\large \\ell = \\frac{1}{2n}\\sum_i^n{\\left(y_i - \\hat{y}_i\\right)^2}\n",
    "$$\n",
    "\n",
    "where $n$ is the number of training examples, $y_i$ are the true labels, and $\\hat{y}_i$ are the predicted labels.\n",
    "\n",
    "By minimizing this loss with respect to the network parameters, we can find configurations where the loss is at a minimum and the network is able to predict the correct labels with high accuracy. We find this minimum using a process called **gradient descent**. The gradient is the slope of the loss function and points in the direction of fastest change. To get to the minimum in the least amount of time, we then want to follow the gradient (downwards). You can think of this like descending a mountain by following the steepest slope to the base.\n",
    "\n",
    "<img src='assets/gradient_descent.png' width=350px>"
   ]
  },
  {
   "cell_type": "markdown",
   "metadata": {},
   "source": [
    "## Backpropagation\n",
    "\n",
    "For single layer networks, gradient descent is straightforward to implement. However, it's more complicated for deeper, multilayer neural networks like the one we've built. Complicated enough that it took about 30 years before researchers figured out how to train multilayer networks.\n",
    "\n",
    "Training multilayer networks is done through **backpropagation** which is really just an application of the chain rule from calculus. It's easiest to understand if we convert a two layer network into a graph representation.\n",
    "\n",
    "<img src='assets/backprop_diagram.png' width=550px>\n",
    "\n",
    "In the forward pass through the network, our data and operations go from bottom to top here. We pass the input $x$ through a linear transformation $L_1$ with weights $W_1$ and biases $b_1$. The output then goes through the sigmoid operation $S$ and another linear transformation $L_2$. Finally we calculate the loss $\\ell$. We use the loss as a measure of how bad the network's predictions are. The goal then is to adjust the weights and biases to minimize the loss.\n",
    "\n",
    "To train the weights with gradient descent, we propagate the gradient of the loss backwards through the network. Each operation has some gradient between the inputs and outputs. As we send the gradients backwards, we multiply the incoming gradient with the gradient for the operation. Mathematically, this is really just calculating the gradient of the loss with respect to the weights using the chain rule.\n",
    "\n",
    "$$\n",
    "\\large \\frac{\\partial \\ell}{\\partial W_1} = \\frac{\\partial L_1}{\\partial W_1} \\frac{\\partial S}{\\partial L_1} \\frac{\\partial L_2}{\\partial S} \\frac{\\partial \\ell}{\\partial L_2}\n",
    "$$\n",
    "\n",
    "**Note:** I'm glossing over a few details here that require some knowledge of vector calculus, but they aren't necessary to understand what's going on.\n",
    "\n",
    "We update our weights using this gradient with some learning rate $\\alpha$. \n",
    "\n",
    "$$\n",
    "\\large W^\\prime_1 = W_1 - \\alpha \\frac{\\partial \\ell}{\\partial W_1}\n",
    "$$\n",
    "\n",
    "The learning rate $\\alpha$ is set such that the weight update steps are small enough that the iterative method settles in a minimum."
   ]
  },
  {
   "cell_type": "markdown",
   "metadata": {},
   "source": [
    "## Losses in PyTorch\n",
    "\n",
    "Let's start by seeing how we calculate the loss with PyTorch. Through the `nn` module, PyTorch provides losses such as the cross-entropy loss (`nn.CrossEntropyLoss`). You'll usually see the loss assigned to `criterion`. As noted in the last part, with a classification problem such as MNIST, we're using the softmax function to predict class probabilities. With a softmax output, you want to use cross-entropy as the loss. To actually calculate the loss, you first define the criterion then pass in the output of your network and the correct labels.\n",
    "\n",
    "Something really important to note here. Looking at [the documentation for `nn.CrossEntropyLoss`](https://pytorch.org/docs/stable/nn.html#torch.nn.CrossEntropyLoss),\n",
    "\n",
    "> This criterion combines `nn.LogSoftmax()` and `nn.NLLLoss()` in one single class.\n",
    ">\n",
    "> The input is expected to contain scores for each class.\n",
    "\n",
    "This means we need to pass in the raw output of our network into the loss, not the output of the softmax function. This raw output is usually called the *logits* or *scores*. We use the logits because softmax gives you probabilities which will often be very close to zero or one but floating-point numbers can't accurately represent values near zero or one ([read more here](https://docs.python.org/3/tutorial/floatingpoint.html)). It's usually best to avoid doing calculations with probabilities, typically we use log-probabilities."
   ]
  },
  {
   "cell_type": "code",
   "execution_count": 1,
   "metadata": {},
   "outputs": [],
   "source": [
    "import torch\n",
    "from torch import nn\n",
    "import torch.nn.functional as F\n",
    "from torchvision import datasets, transforms\n",
    "\n",
    "# Define a transform to normalize the data\n",
    "transform = transforms.Compose([transforms.ToTensor(),\n",
    "                                transforms.Normalize((0.5,), (0.5,)),\n",
    "                              ])\n",
    "# Download and load the training data\n",
    "trainset = datasets.MNIST('~/.pytorch/MNIST_data/', download=True, train=True, transform=transform)\n",
    "trainloader = torch.utils.data.DataLoader(trainset, batch_size=64, shuffle=True)"
   ]
  },
  {
   "cell_type": "code",
   "execution_count": 2,
   "metadata": {},
   "outputs": [],
   "source": [
    "images, labels = next(iter(trainloader))"
   ]
  },
  {
   "cell_type": "code",
   "execution_count": 3,
   "metadata": {},
   "outputs": [
    {
     "data": {
      "text/plain": [
       "<matplotlib.axes._subplots.AxesSubplot at 0x20cf753d3c8>"
      ]
     },
     "execution_count": 3,
     "metadata": {},
     "output_type": "execute_result"
    }
   ],
   "source": [
    "import helper\n",
    "helper.imshow(images[0])"
   ]
  },
  {
   "cell_type": "markdown",
   "metadata": {},
   "source": [
    "### Note\n",
    "If you haven't seen `nn.Sequential` yet, please finish the end of the Part 2 notebook."
   ]
  },
  {
   "cell_type": "code",
   "execution_count": 4,
   "metadata": {},
   "outputs": [
    {
     "name": "stdout",
     "output_type": "stream",
     "text": [
      "tensor(2.2875, grad_fn=<NllLossBackward>)\n"
     ]
    }
   ],
   "source": [
    "# Build a feed-forward network\n",
    "model = nn.Sequential(nn.Linear(784, 128),\n",
    "                      nn.ReLU(),\n",
    "                      nn.Linear(128, 64),\n",
    "                      nn.ReLU(),\n",
    "                      nn.Linear(64, 10))\n",
    "\n",
    "# Define the loss\n",
    "criterion = nn.CrossEntropyLoss()\n",
    "\n",
    "# Get our data\n",
    "\n",
    "# Flatten images\n",
    "images = images.view(images.shape[0], -1)\n",
    "\n",
    "# Forward pass, get our logits\n",
    "logits = model(images)\n",
    "# Calculate the loss with the logits and the labels\n",
    "loss = criterion(logits, labels)\n",
    "\n",
    "print(loss)"
   ]
  },
  {
   "cell_type": "code",
   "execution_count": 16,
   "metadata": {},
   "outputs": [
    {
     "name": "stdout",
     "output_type": "stream",
     "text": [
      "tensor([ 0.0348, -0.0021, -0.0042, -0.0267,  0.0175, -0.0319, -0.0195, -0.0349,\n",
      "        -0.0349,  0.0290, -0.0246,  0.0102, -0.0329,  0.0002, -0.0184,  0.0176,\n",
      "         0.0297,  0.0298, -0.0051,  0.0194, -0.0172,  0.0316, -0.0055,  0.0132,\n",
      "        -0.0030,  0.0001, -0.0202, -0.0071, -0.0267, -0.0348, -0.0190,  0.0184,\n",
      "        -0.0112,  0.0333,  0.0068, -0.0151, -0.0225, -0.0151,  0.0049, -0.0325,\n",
      "        -0.0265, -0.0040,  0.0148,  0.0226, -0.0296, -0.0164, -0.0288, -0.0034,\n",
      "        -0.0265, -0.0052, -0.0348,  0.0018, -0.0047, -0.0152,  0.0051, -0.0039,\n",
      "         0.0125,  0.0251,  0.0184,  0.0086,  0.0029, -0.0121,  0.0335, -0.0291,\n",
      "         0.0110, -0.0157, -0.0340, -0.0321, -0.0349, -0.0253,  0.0168, -0.0238,\n",
      "        -0.0101,  0.0198, -0.0240,  0.0352,  0.0031,  0.0112,  0.0307,  0.0251,\n",
      "        -0.0219, -0.0304,  0.0262, -0.0337,  0.0114,  0.0108, -0.0071,  0.0006,\n",
      "         0.0098,  0.0239,  0.0123, -0.0128, -0.0212, -0.0020,  0.0021,  0.0262,\n",
      "        -0.0017, -0.0277,  0.0174, -0.0149,  0.0156,  0.0143,  0.0327,  0.0274,\n",
      "         0.0302, -0.0320,  0.0070,  0.0274, -0.0009, -0.0068, -0.0287,  0.0129,\n",
      "        -0.0146, -0.0280, -0.0226, -0.0304,  0.0058, -0.0075,  0.0117, -0.0325,\n",
      "        -0.0038, -0.0334, -0.0242,  0.0300,  0.0035,  0.0091,  0.0183,  0.0188])\n",
      "OrderedDict([('0.weight', tensor([[ 0.0079,  0.0018,  0.0040,  ..., -0.0286, -0.0067, -0.0201],\n",
      "        [-0.0299,  0.0068, -0.0138,  ..., -0.0059,  0.0270,  0.0012],\n",
      "        [ 0.0351,  0.0213,  0.0060,  ..., -0.0217, -0.0309, -0.0063],\n",
      "        ...,\n",
      "        [ 0.0088,  0.0026,  0.0139,  ...,  0.0211,  0.0121,  0.0174],\n",
      "        [ 0.0218, -0.0335,  0.0296,  ..., -0.0323,  0.0167,  0.0126],\n",
      "        [-0.0093, -0.0072,  0.0347,  ...,  0.0267,  0.0012,  0.0331]])), ('0.bias', tensor([ 0.0348, -0.0021, -0.0042, -0.0267,  0.0175, -0.0319, -0.0195, -0.0349,\n",
      "        -0.0349,  0.0290, -0.0246,  0.0102, -0.0329,  0.0002, -0.0184,  0.0176,\n",
      "         0.0297,  0.0298, -0.0051,  0.0194, -0.0172,  0.0316, -0.0055,  0.0132,\n",
      "        -0.0030,  0.0001, -0.0202, -0.0071, -0.0267, -0.0348, -0.0190,  0.0184,\n",
      "        -0.0112,  0.0333,  0.0068, -0.0151, -0.0225, -0.0151,  0.0049, -0.0325,\n",
      "        -0.0265, -0.0040,  0.0148,  0.0226, -0.0296, -0.0164, -0.0288, -0.0034,\n",
      "        -0.0265, -0.0052, -0.0348,  0.0018, -0.0047, -0.0152,  0.0051, -0.0039,\n",
      "         0.0125,  0.0251,  0.0184,  0.0086,  0.0029, -0.0121,  0.0335, -0.0291,\n",
      "         0.0110, -0.0157, -0.0340, -0.0321, -0.0349, -0.0253,  0.0168, -0.0238,\n",
      "        -0.0101,  0.0198, -0.0240,  0.0352,  0.0031,  0.0112,  0.0307,  0.0251,\n",
      "        -0.0219, -0.0304,  0.0262, -0.0337,  0.0114,  0.0108, -0.0071,  0.0006,\n",
      "         0.0098,  0.0239,  0.0123, -0.0128, -0.0212, -0.0020,  0.0021,  0.0262,\n",
      "        -0.0017, -0.0277,  0.0174, -0.0149,  0.0156,  0.0143,  0.0327,  0.0274,\n",
      "         0.0302, -0.0320,  0.0070,  0.0274, -0.0009, -0.0068, -0.0287,  0.0129,\n",
      "        -0.0146, -0.0280, -0.0226, -0.0304,  0.0058, -0.0075,  0.0117, -0.0325,\n",
      "        -0.0038, -0.0334, -0.0242,  0.0300,  0.0035,  0.0091,  0.0183,  0.0188])), ('2.weight', tensor([[ 0.0547,  0.0104,  0.0317,  ..., -0.0842,  0.0118, -0.0392],\n",
      "        [ 0.0036, -0.0476, -0.0322,  ...,  0.0810, -0.0750, -0.0533],\n",
      "        [-0.0781, -0.0250,  0.0179,  ..., -0.0837, -0.0279,  0.0565],\n",
      "        ...,\n",
      "        [ 0.0440, -0.0518, -0.0273,  ..., -0.0825,  0.0214,  0.0816],\n",
      "        [ 0.0174, -0.0736,  0.0294,  ...,  0.0526,  0.0264,  0.0600],\n",
      "        [ 0.0373,  0.0296, -0.0715,  ..., -0.0870, -0.0026, -0.0381]])), ('2.bias', tensor([ 0.0129, -0.0794, -0.0719, -0.0759,  0.0835,  0.0302, -0.0684, -0.0012,\n",
      "         0.0690, -0.0116, -0.0566,  0.0631, -0.0674,  0.0756,  0.0218,  0.0654,\n",
      "        -0.0456, -0.0830, -0.0568, -0.0200,  0.0429, -0.0332,  0.0184, -0.0103,\n",
      "        -0.0697,  0.0011, -0.0003,  0.0072,  0.0640, -0.0699, -0.0147, -0.0579,\n",
      "        -0.0478, -0.0089,  0.0538, -0.0527, -0.0117, -0.0036, -0.0854,  0.0176,\n",
      "        -0.0557, -0.0818,  0.0577, -0.0114,  0.0720, -0.0496, -0.0347,  0.0120,\n",
      "         0.0719,  0.0723,  0.0600, -0.0411,  0.0196,  0.0167,  0.0132, -0.0692,\n",
      "         0.0665,  0.0152,  0.0545, -0.0274, -0.0434, -0.0431, -0.0467,  0.0852])), ('4.weight', tensor([[-1.0911e-01, -1.1708e-01, -1.2302e-01, -1.2282e-01, -3.2249e-02,\n",
      "         -8.9250e-02, -1.2399e-01,  4.9305e-02,  1.2054e-01, -3.7240e-02,\n",
      "          2.2489e-02, -1.2152e-01, -9.3103e-02, -8.9376e-02, -3.4152e-02,\n",
      "          1.1813e-01,  1.0776e-01,  5.2109e-02,  7.2219e-02, -5.6639e-02,\n",
      "         -9.2488e-02,  4.3986e-02, -8.8561e-02, -1.2308e-01, -3.6424e-02,\n",
      "          7.0596e-02,  1.0697e-01, -8.8930e-02, -3.3995e-02, -1.1830e-01,\n",
      "         -4.4514e-02, -8.3326e-02, -5.9344e-03,  6.9362e-02, -1.0323e-01,\n",
      "         -2.5638e-02,  9.2371e-02, -1.1130e-01,  1.0213e-01,  8.8807e-02,\n",
      "         -7.3051e-03, -6.7053e-02, -1.0320e-01,  9.1288e-02,  4.2703e-02,\n",
      "          7.0166e-03,  9.6946e-02,  1.8139e-02,  7.8117e-02, -6.3415e-02,\n",
      "         -1.2451e-01,  8.7296e-02,  5.0375e-02, -3.0498e-02,  6.8988e-02,\n",
      "         -1.7979e-02, -9.5519e-02,  1.1110e-01, -1.7149e-02, -8.0513e-02,\n",
      "          5.0269e-02,  1.2011e-01,  1.2209e-01, -1.0413e-02],\n",
      "        [ 1.0269e-01,  1.1428e-01,  3.1676e-02,  2.5235e-02, -3.0457e-02,\n",
      "          1.9202e-02, -1.1620e-01,  3.0048e-02,  8.5080e-02, -8.2442e-02,\n",
      "         -7.6638e-02, -1.2364e-01,  7.6844e-02, -5.6561e-02,  9.4554e-02,\n",
      "          3.2668e-03, -1.7099e-02, -3.5591e-02,  6.6428e-02, -1.1796e-01,\n",
      "          4.2816e-02, -8.3003e-02,  1.1894e-01, -6.0711e-02, -5.9247e-03,\n",
      "          9.2870e-02, -9.1876e-02, -1.0531e-01, -9.8882e-02, -3.9994e-02,\n",
      "         -9.3152e-02,  7.3122e-02,  9.4735e-02, -9.4491e-02, -2.2004e-02,\n",
      "         -9.3309e-02, -1.2165e-02, -5.7526e-02, -6.2506e-02, -7.7509e-02,\n",
      "          2.0790e-02,  9.9211e-02,  3.6065e-03, -5.9667e-02, -5.6500e-02,\n",
      "         -1.1066e-02,  8.7839e-02, -7.2222e-02, -1.1522e-01,  4.3668e-02,\n",
      "          7.3842e-02,  9.4049e-02, -2.7519e-02,  1.1258e-01,  3.5289e-02,\n",
      "          2.1651e-04, -4.1854e-02,  1.2479e-01,  3.4594e-02, -8.3056e-03,\n",
      "         -9.7115e-02, -9.4583e-02, -7.0452e-02, -3.2865e-03],\n",
      "        [-7.6842e-02,  6.1900e-03, -1.1603e-02, -9.7416e-02,  2.4890e-02,\n",
      "          2.8857e-02, -8.0692e-02,  4.7267e-02,  9.6131e-03, -8.2676e-03,\n",
      "         -7.4425e-02,  1.0847e-01,  6.3901e-02,  2.5045e-03, -1.1415e-01,\n",
      "          5.8356e-02, -5.7670e-02, -3.3394e-02, -7.3689e-02, -1.0026e-01,\n",
      "          9.8408e-02, -3.3744e-02, -3.2960e-02,  1.1334e-03, -7.1132e-02,\n",
      "         -2.0258e-02,  1.0235e-01,  1.1589e-01, -6.3803e-02, -9.6280e-03,\n",
      "          2.5603e-03, -2.9939e-02,  1.7686e-02, -3.0808e-02,  3.9538e-02,\n",
      "          4.4177e-02,  1.0092e-01, -6.2006e-02,  7.2175e-02,  9.2216e-02,\n",
      "          4.2130e-02, -1.6427e-02,  1.5243e-02,  7.5147e-03,  2.0203e-02,\n",
      "          8.0429e-02,  1.2331e-01, -5.1128e-03, -1.6260e-02, -6.0668e-02,\n",
      "          1.4398e-03, -1.9338e-02,  1.5251e-03, -8.1993e-02,  1.2556e-02,\n",
      "         -6.5042e-02, -9.9624e-02,  1.3074e-02, -1.1477e-01,  9.4509e-02,\n",
      "         -1.0845e-01, -1.8438e-02, -1.1940e-01,  2.6678e-02],\n",
      "        [-5.4099e-02, -1.2207e-01, -2.9618e-02, -9.6598e-02,  8.9450e-02,\n",
      "         -3.6471e-02, -9.1853e-03,  6.1562e-02,  1.2042e-01, -7.4415e-02,\n",
      "          1.7170e-02, -8.6695e-02,  5.1978e-02, -9.0674e-02, -7.7151e-02,\n",
      "          1.0060e-01,  8.2829e-02,  8.6710e-04,  7.2332e-02, -6.2442e-02,\n",
      "         -4.9588e-02,  1.0067e-01, -5.0809e-02,  8.6169e-02,  5.1464e-02,\n",
      "          1.6430e-02,  3.6005e-02, -3.7180e-02, -3.8206e-02, -1.4156e-02,\n",
      "         -3.3685e-02, -1.0193e-02,  1.1627e-01,  8.8283e-02, -1.1960e-01,\n",
      "         -5.1926e-02,  7.8226e-02,  1.1037e-01, -1.0333e-01, -7.4642e-02,\n",
      "         -4.8346e-02, -5.3275e-02, -5.1181e-02, -6.0737e-05, -5.9129e-02,\n",
      "          1.1958e-01,  9.9799e-03, -6.2022e-02, -3.5043e-02, -3.1563e-03,\n",
      "         -3.8742e-02,  8.7697e-02,  1.1139e-01,  1.7695e-03,  6.1450e-02,\n",
      "         -5.3624e-02,  3.1839e-02,  1.0255e-01, -4.0243e-02,  1.3118e-02,\n",
      "          2.7148e-02, -8.7526e-02, -9.7524e-03,  7.2203e-02],\n",
      "        [ 1.8977e-02, -1.6397e-02,  8.3960e-02,  2.6302e-02, -1.1983e-01,\n",
      "          3.6083e-02, -4.8533e-02, -2.1967e-02, -8.7292e-02,  1.1057e-01,\n",
      "         -3.6472e-02,  1.1843e-02,  2.4506e-02, -2.7234e-02, -6.5316e-02,\n",
      "          4.2456e-02,  9.9297e-02,  1.9984e-02,  1.5179e-03, -4.0693e-02,\n",
      "          3.0225e-02, -1.1103e-01,  1.0662e-02, -7.0541e-02,  3.7004e-02,\n",
      "          4.8424e-02, -1.1143e-01,  2.2941e-02, -1.6116e-02, -2.8059e-02,\n",
      "          9.0947e-02, -7.2139e-03, -2.1247e-02,  1.1085e-01,  5.1860e-02,\n",
      "         -6.0731e-02,  4.4323e-02,  8.5943e-02,  4.3104e-03,  1.0244e-01,\n",
      "          2.5843e-02, -6.2974e-02, -1.2159e-01,  6.1361e-02,  4.8401e-02,\n",
      "         -1.2488e-01,  5.8106e-02, -2.4964e-02,  9.6483e-02,  6.0790e-02,\n",
      "         -9.0789e-02, -7.2529e-02,  7.2980e-02, -5.5970e-02, -1.0263e-01,\n",
      "         -7.9510e-02, -5.0313e-02,  1.0357e-01, -6.3485e-02, -1.0799e-01,\n",
      "          5.0726e-03,  3.9638e-02, -9.6002e-02,  6.1642e-03],\n",
      "        [-1.1538e-01, -7.5254e-02,  1.2454e-01,  3.8299e-02,  1.1636e-01,\n",
      "         -1.2388e-01,  9.2138e-03, -6.5279e-02, -2.1591e-02, -6.6503e-02,\n",
      "          5.0977e-03, -1.0448e-01, -6.5447e-02,  8.7480e-02, -2.3532e-02,\n",
      "         -3.9720e-02,  4.6014e-02,  5.2219e-02, -2.3184e-03, -5.7817e-02,\n",
      "         -8.7147e-02, -7.6096e-02, -1.3696e-02,  1.1844e-01, -1.7450e-02,\n",
      "         -8.5711e-02, -6.0804e-02, -5.2710e-02, -1.2018e-01,  1.6111e-02,\n",
      "          6.3963e-02, -1.0590e-01,  3.8357e-02,  9.6572e-02, -1.1978e-01,\n",
      "         -9.1455e-02, -3.2578e-02,  2.2646e-02, -8.6769e-02, -1.1636e-01,\n",
      "         -9.2147e-02, -8.1045e-02,  3.5424e-02,  2.3887e-02,  1.1260e-02,\n",
      "          6.2314e-02,  8.8375e-02, -7.2415e-02,  4.3413e-04, -9.3183e-02,\n",
      "         -8.9368e-02,  2.5522e-02, -3.2520e-02,  5.8367e-02, -5.1219e-02,\n",
      "          3.9424e-03,  7.6147e-02,  2.9487e-02, -8.7107e-02,  1.1036e-01,\n",
      "          3.1626e-03, -5.4243e-02, -4.4275e-02, -1.1144e-01],\n",
      "        [-3.8623e-02, -6.8158e-02,  6.1054e-02, -6.3992e-02,  4.7379e-02,\n",
      "          1.1308e-01,  1.3112e-02, -1.0781e-01,  4.7240e-02, -8.8508e-02,\n",
      "         -2.3886e-03,  2.2268e-03,  1.2125e-01, -2.9593e-02,  7.8866e-02,\n",
      "          5.1570e-02,  4.8427e-02,  6.9426e-02, -7.5134e-02, -1.6189e-02,\n",
      "         -3.8375e-02,  1.1700e-01, -1.0622e-01, -1.0085e-01,  1.0570e-01,\n",
      "          5.1237e-02,  9.4986e-02, -8.4158e-02, -5.3874e-02, -2.8127e-02,\n",
      "         -3.3850e-02,  1.0260e-01,  1.1725e-01,  8.9005e-03,  4.9671e-02,\n",
      "         -3.4401e-02,  7.2056e-02, -1.0914e-01,  5.5619e-02, -1.0760e-01,\n",
      "         -5.7267e-02, -5.0890e-02,  7.6290e-02, -7.8788e-02, -1.4498e-02,\n",
      "         -2.5211e-02, -9.9341e-02, -8.2587e-02,  9.5255e-02, -1.0882e-01,\n",
      "          8.5339e-02, -5.8830e-03,  5.8422e-02, -7.7154e-02, -1.0766e-01,\n",
      "         -1.0193e-01,  1.1285e-01, -6.2408e-02, -7.5305e-02,  2.4837e-02,\n",
      "         -1.0180e-01,  3.4164e-02, -8.2633e-02, -3.1726e-02],\n",
      "        [ 8.1653e-02, -7.2493e-02,  7.2673e-02, -9.3826e-02,  8.1992e-02,\n",
      "          1.1077e-01,  2.4741e-02, -8.6636e-02,  7.1134e-02, -5.0530e-02,\n",
      "          6.2364e-02,  3.7436e-02, -9.9726e-02,  5.2400e-02,  1.0148e-01,\n",
      "          1.1714e-01,  4.2147e-02,  9.1231e-02, -1.6768e-02, -9.8442e-02,\n",
      "         -1.0991e-01, -5.2088e-02,  9.7875e-02, -1.2004e-01,  1.3056e-02,\n",
      "          9.3183e-02, -1.8373e-02,  6.1018e-03, -3.9871e-02, -8.6953e-02,\n",
      "         -1.1734e-01, -2.5903e-02, -7.2647e-02,  9.8159e-02, -6.3318e-02,\n",
      "         -1.1569e-01,  6.0165e-02, -2.0049e-03, -4.9320e-02,  6.3510e-02,\n",
      "          1.7545e-02, -2.6745e-02, -8.8808e-02, -4.7178e-02,  9.5272e-02,\n",
      "         -1.0067e-01,  1.2155e-01, -2.5564e-02,  1.5051e-02,  4.2257e-02,\n",
      "         -7.4220e-02,  7.3039e-02,  8.2396e-03,  9.3406e-02,  1.0173e-01,\n",
      "          1.1174e-01,  9.6888e-02,  4.2299e-02,  1.1579e-01, -8.8582e-02,\n",
      "         -6.6775e-02, -3.0482e-02,  2.2367e-02, -5.3255e-02],\n",
      "        [ 9.4154e-02,  1.0453e-01,  7.2667e-02,  7.2881e-02, -1.1097e-01,\n",
      "          8.7077e-02, -1.2390e-01,  8.7250e-02,  1.1187e-01,  1.5411e-02,\n",
      "          3.2377e-02, -1.3167e-02,  5.4505e-02, -2.5655e-02, -1.2231e-01,\n",
      "         -1.3855e-02, -6.6240e-02,  5.6653e-02,  3.2537e-03,  9.3780e-02,\n",
      "         -8.5901e-02, -7.4487e-02, -1.2263e-01, -4.6733e-02,  1.2531e-02,\n",
      "          4.6683e-02,  3.9916e-02, -6.7189e-02, -5.9305e-02,  5.9499e-02,\n",
      "          1.0908e-01, -1.1628e-01,  5.1408e-02,  9.3541e-02,  2.3356e-02,\n",
      "          3.8343e-02, -1.2133e-02,  2.4444e-02,  1.4664e-02,  5.6299e-02,\n",
      "          5.2998e-02,  8.9320e-03, -9.5393e-03,  9.7719e-02,  2.2179e-02,\n",
      "          1.0151e-01, -3.2364e-02, -9.6882e-02,  1.1437e-02,  9.2437e-02,\n",
      "          8.4965e-02,  9.3206e-02,  8.2332e-02,  1.0801e-01,  5.3128e-02,\n",
      "         -5.8507e-02, -5.1717e-02, -5.5766e-02,  1.0829e-01, -1.2095e-02,\n",
      "          1.0158e-02,  7.7283e-02, -7.0144e-02,  3.7271e-02],\n",
      "        [ 6.1569e-02, -2.6098e-02, -2.7051e-02,  1.0095e-01,  1.0049e-01,\n",
      "          9.1682e-02, -8.8414e-02, -4.6377e-02,  1.0090e-01, -5.4142e-02,\n",
      "         -3.2200e-02,  7.5834e-02, -8.3158e-02, -1.0768e-01, -1.0277e-01,\n",
      "         -1.1491e-02, -1.0859e-01, -7.1004e-02,  9.7617e-02, -3.5882e-02,\n",
      "         -1.0987e-01, -2.7195e-02, -1.0025e-01,  1.6873e-02,  2.7807e-02,\n",
      "         -6.3427e-02, -1.0080e-01,  9.7207e-02, -1.0674e-01,  9.9253e-02,\n",
      "         -6.0281e-02,  3.1179e-02, -3.8810e-02, -1.1766e-01, -2.3316e-02,\n",
      "         -1.0301e-02, -7.2111e-02,  1.0506e-01,  1.1816e-01, -6.6081e-02,\n",
      "          6.2671e-02,  3.3531e-02,  1.2414e-01,  1.3888e-02, -5.7316e-02,\n",
      "         -5.0079e-02,  1.2117e-01, -9.5303e-02,  4.3513e-02, -9.5600e-02,\n",
      "         -9.9367e-02,  1.6926e-02,  1.0622e-01,  2.7110e-02,  5.1135e-02,\n",
      "          1.2449e-01,  1.0385e-02,  4.2749e-02, -5.9276e-02,  7.3508e-02,\n",
      "          1.4493e-02,  8.5450e-02, -8.2195e-02,  5.8455e-02]])), ('4.bias', tensor([-0.0891,  0.0879, -0.0463,  0.0153, -0.0978,  0.1162, -0.0958, -0.0136,\n"
     ]
    },
    {
     "name": "stdout",
     "output_type": "stream",
     "text": [
      "        -0.0972,  0.0517]))])\n"
     ]
    }
   ],
   "source": [
    "print(model[0].bias.data)\n",
    "print(model.state_dict())"
   ]
  },
  {
   "cell_type": "markdown",
   "metadata": {},
   "source": [
    "In my experience it's more convenient to build the model with a log-softmax output using `nn.LogSoftmax` or `F.log_softmax` ([documentation](https://pytorch.org/docs/stable/nn.html#torch.nn.LogSoftmax)). Then you can get the actual probabilities by taking the exponential `torch.exp(output)`. With a log-softmax output, you want to use the negative log likelihood loss, `nn.NLLLoss` ([documentation](https://pytorch.org/docs/stable/nn.html#torch.nn.NLLLoss)).\n",
    "\n",
    ">**Exercise:** Build a model that returns the log-softmax as the output and calculate the loss using the negative log likelihood loss. Note that for `nn.LogSoftmax` and `F.log_softmax` you'll need to set the `dim` keyword argument appropriately. `dim=0` calculates softmax across the rows, so each column sums to 1, while `dim=1` calculates across the columns so each row sums to 1. Think about what you want the output to be and choose `dim` appropriately."
   ]
  },
  {
   "cell_type": "code",
   "execution_count": 19,
   "metadata": {},
   "outputs": [
    {
     "name": "stdout",
     "output_type": "stream",
     "text": [
      "tensor(2.2983, grad_fn=<NllLossBackward>)\n"
     ]
    },
    {
     "data": {
      "text/plain": [
       "tensor([0.1134, 0.0967, 0.1027, 0.0933, 0.0993, 0.1116, 0.0992, 0.0917, 0.1060,\n",
       "        0.0861], grad_fn=<ExpBackward>)"
      ]
     },
     "execution_count": 19,
     "metadata": {},
     "output_type": "execute_result"
    }
   ],
   "source": [
    "# TODO: Build a feed-forward network\n",
    "model = nn.Sequential(nn.Linear(784, 256),\n",
    "                     nn.ReLU(),\n",
    "                     nn.Linear(256, 64),\n",
    "                     nn.ReLU(),\n",
    "                     nn.Linear(64, 10),\n",
    "                     nn.LogSoftmax(dim=1))\n",
    "\n",
    "# TODO: Define the loss\n",
    "criterion = nn.NLLLoss()\n",
    "\n",
    "### Run this to check your work\n",
    "# Get our data\n",
    "images, labels = next(iter(trainloader))\n",
    "# Flatten images\n",
    "images = images.view(images.shape[0], -1)\n",
    "\n",
    "# Forward pass, get our logits\n",
    "logits = model(images)\n",
    "# Calculate the loss with the logits and the labels\n",
    "loss = criterion(logits, labels)\n",
    "\n",
    "print(loss)\n",
    "\n",
    "torch.exp(logits[0])"
   ]
  },
  {
   "cell_type": "markdown",
   "metadata": {},
   "source": [
    "## Autograd\n",
    "\n",
    "Now that we know how to calculate a loss, how do we use it to perform backpropagation? Torch provides a module, `autograd`, for automatically calculating the gradients of tensors. We can use it to calculate the gradients of all our parameters with respect to the loss. Autograd works by keeping track of operations performed on tensors, then going backwards through those operations, calculating gradients along the way. To make sure PyTorch keeps track of operations on a tensor and calculates the gradients, you need to set `requires_grad = True` on a tensor. You can do this at creation with the `requires_grad` keyword, or at any time with `x.requires_grad_(True)`.\n",
    "\n",
    "You can turn off gradients for a block of code with the `torch.no_grad()` content:\n",
    "```python\n",
    "x = torch.zeros(1, requires_grad=True)\n",
    ">>> with torch.no_grad():\n",
    "...     y = x * 2\n",
    ">>> y.requires_grad\n",
    "False\n",
    "```\n",
    "\n",
    "Also, you can turn on or off gradients altogether with `torch.set_grad_enabled(True|False)`.\n",
    "\n",
    "The gradients are computed with respect to some variable `z` with `z.backward()`. This does a backward pass through the operations that created `z`."
   ]
  },
  {
   "cell_type": "code",
   "execution_count": 20,
   "metadata": {},
   "outputs": [
    {
     "name": "stdout",
     "output_type": "stream",
     "text": [
      "tensor([[-0.1578,  1.5921],\n",
      "        [ 1.4316,  0.2129]], requires_grad=True)\n"
     ]
    }
   ],
   "source": [
    "x = torch.randn(2,2, requires_grad=True)\n",
    "print(x)"
   ]
  },
  {
   "cell_type": "code",
   "execution_count": 21,
   "metadata": {},
   "outputs": [
    {
     "name": "stdout",
     "output_type": "stream",
     "text": [
      "tensor([[0.0249, 2.5347],\n",
      "        [2.0493, 0.0453]], grad_fn=<PowBackward0>)\n"
     ]
    }
   ],
   "source": [
    "y = x**2\n",
    "print(y)"
   ]
  },
  {
   "cell_type": "markdown",
   "metadata": {},
   "source": [
    "Below we can see the operation that created `y`, a power operation `PowBackward0`."
   ]
  },
  {
   "cell_type": "code",
   "execution_count": 22,
   "metadata": {},
   "outputs": [
    {
     "name": "stdout",
     "output_type": "stream",
     "text": [
      "<PowBackward0 object at 0x0000022C15DF9E10>\n"
     ]
    }
   ],
   "source": [
    "## grad_fn shows the function that generated this variable\n",
    "print(y.grad_fn)"
   ]
  },
  {
   "cell_type": "markdown",
   "metadata": {},
   "source": [
    "The autograd module keeps track of these operations and knows how to calculate the gradient for each one. In this way, it's able to calculate the gradients for a chain of operations, with respect to any one tensor. Let's reduce the tensor `y` to a scalar value, the mean."
   ]
  },
  {
   "cell_type": "code",
   "execution_count": 23,
   "metadata": {},
   "outputs": [
    {
     "name": "stdout",
     "output_type": "stream",
     "text": [
      "tensor(1.1636, grad_fn=<MeanBackward0>)\n"
     ]
    }
   ],
   "source": [
    "z = y.mean()\n",
    "print(z)"
   ]
  },
  {
   "cell_type": "markdown",
   "metadata": {},
   "source": [
    "You can check the gradients for `x` and `y` but they are empty currently."
   ]
  },
  {
   "cell_type": "code",
   "execution_count": 24,
   "metadata": {},
   "outputs": [
    {
     "name": "stdout",
     "output_type": "stream",
     "text": [
      "None\n"
     ]
    }
   ],
   "source": [
    "print(x.grad)"
   ]
  },
  {
   "cell_type": "markdown",
   "metadata": {},
   "source": [
    "To calculate the gradients, you need to run the `.backward` method on a Variable, `z` for example. This will calculate the gradient for `z` with respect to `x`\n",
    "\n",
    "$$\n",
    "\\frac{\\partial z}{\\partial x} = \\frac{\\partial}{\\partial x}\\left[\\frac{1}{n}\\sum_i^n x_i^2\\right] = \\frac{x}{2}\n",
    "$$"
   ]
  },
  {
   "cell_type": "code",
   "execution_count": 25,
   "metadata": {},
   "outputs": [
    {
     "name": "stdout",
     "output_type": "stream",
     "text": [
      "tensor([[-0.0789,  0.7960],\n",
      "        [ 0.7158,  0.1064]])\n",
      "tensor([[-0.0789,  0.7960],\n",
      "        [ 0.7158,  0.1064]], grad_fn=<DivBackward0>)\n"
     ]
    }
   ],
   "source": [
    "z.backward()\n",
    "print(x.grad)\n",
    "print(x/2)"
   ]
  },
  {
   "cell_type": "markdown",
   "metadata": {},
   "source": [
    "These gradients calculations are particularly useful for neural networks. For training we need the gradients of the cost with respect to the weights. With PyTorch, we run data forward through the network to calculate the loss, then, go backwards to calculate the gradients with respect to the loss. Once we have the gradients we can make a gradient descent step. "
   ]
  },
  {
   "cell_type": "markdown",
   "metadata": {},
   "source": [
    "## Loss and Autograd together\n",
    "\n",
    "When we create a network with PyTorch, all of the parameters are initialized with `requires_grad = True`. This means that when we calculate the loss and call `loss.backward()`, the gradients for the parameters are calculated. These gradients are used to update the weights with gradient descent. Below you can see an example of calculating the gradients using a backwards pass."
   ]
  },
  {
   "cell_type": "code",
   "execution_count": 26,
   "metadata": {},
   "outputs": [],
   "source": [
    "# Build a feed-forward network\n",
    "model = nn.Sequential(nn.Linear(784, 128),\n",
    "                      nn.ReLU(),\n",
    "                      nn.Linear(128, 64),\n",
    "                      nn.ReLU(),\n",
    "                      nn.Linear(64, 10),\n",
    "                      nn.LogSoftmax(dim=1))\n",
    "\n",
    "criterion = nn.NLLLoss()\n",
    "images, labels = next(iter(trainloader))\n",
    "images = images.view(images.shape[0], -1)\n",
    "\n",
    "logits = model(images)\n",
    "loss = criterion(logits, labels)"
   ]
  },
  {
   "cell_type": "code",
   "execution_count": 27,
   "metadata": {},
   "outputs": [
    {
     "name": "stdout",
     "output_type": "stream",
     "text": [
      "Before backward pass: \n",
      " None\n",
      "After backward pass: \n",
      " tensor([[ 0.0008,  0.0008,  0.0008,  ...,  0.0008,  0.0008,  0.0008],\n",
      "        [ 0.0002,  0.0002,  0.0002,  ...,  0.0002,  0.0002,  0.0002],\n",
      "        [ 0.0015,  0.0015,  0.0015,  ...,  0.0015,  0.0015,  0.0015],\n",
      "        ...,\n",
      "        [ 0.0003,  0.0003,  0.0003,  ...,  0.0003,  0.0003,  0.0003],\n",
      "        [ 0.0001,  0.0001,  0.0001,  ...,  0.0001,  0.0001,  0.0001],\n",
      "        [-0.0016, -0.0016, -0.0016,  ..., -0.0016, -0.0016, -0.0016]])\n"
     ]
    }
   ],
   "source": [
    "print('Before backward pass: \\n', model[0].weight.grad)\n",
    "\n",
    "loss.backward()\n",
    "\n",
    "print('After backward pass: \\n', model[0].weight.grad)"
   ]
  },
  {
   "cell_type": "code",
   "execution_count": 30,
   "metadata": {},
   "outputs": [
    {
     "data": {
      "text/plain": [
       "<generator object Module.parameters at 0x0000022C16ABBFC0>"
      ]
     },
     "execution_count": 30,
     "metadata": {},
     "output_type": "execute_result"
    }
   ],
   "source": [
    "model.parameters()"
   ]
  },
  {
   "cell_type": "markdown",
   "metadata": {},
   "source": [
    "## Training the network!\n",
    "\n",
    "There's one last piece we need to start training, an optimizer that we'll use to update the weights with the gradients. We get these from PyTorch's [`optim` package](https://pytorch.org/docs/stable/optim.html). For example we can use stochastic gradient descent with `optim.SGD`. You can see how to define an optimizer below."
   ]
  },
  {
   "cell_type": "code",
   "execution_count": 31,
   "metadata": {},
   "outputs": [],
   "source": [
    "from torch import optim\n",
    "\n",
    "# Optimizers require the parameters to optimize and a learning rate\n",
    "optimizer = optim.SGD(model.parameters(), lr=0.01)"
   ]
  },
  {
   "cell_type": "markdown",
   "metadata": {},
   "source": [
    "Now we know how to use all the individual parts so it's time to see how they work together. Let's consider just one learning step before looping through all the data. The general process with PyTorch:\n",
    "\n",
    "* Make a forward pass through the network \n",
    "* Use the network output to calculate the loss\n",
    "* Perform a backward pass through the network with `loss.backward()` to calculate the gradients\n",
    "* Take a step with the optimizer to update the weights\n",
    "\n",
    "Below I'll go through one training step and print out the weights and gradients so you can see how it changes. Note that I have a line of code `optimizer.zero_grad()`. When you do multiple backwards passes with the same parameters, the gradients are accumulated. This means that you need to zero the gradients on each training pass or you'll retain gradients from previous training batches."
   ]
  },
  {
   "cell_type": "code",
   "execution_count": 32,
   "metadata": {},
   "outputs": [
    {
     "name": "stdout",
     "output_type": "stream",
     "text": [
      "Initial weights -  Parameter containing:\n",
      "tensor([[ 0.0203,  0.0283, -0.0062,  ...,  0.0315, -0.0094, -0.0261],\n",
      "        [ 0.0265, -0.0189, -0.0187,  ..., -0.0154, -0.0200, -0.0341],\n",
      "        [-0.0078,  0.0060, -0.0260,  ...,  0.0203, -0.0282, -0.0115],\n",
      "        ...,\n",
      "        [ 0.0134,  0.0202,  0.0158,  ..., -0.0266, -0.0110, -0.0012],\n",
      "        [ 0.0095, -0.0157, -0.0267,  ...,  0.0202,  0.0150,  0.0167],\n",
      "        [-0.0321,  0.0247, -0.0245,  ..., -0.0356,  0.0268, -0.0302]],\n",
      "       requires_grad=True)\n",
      "Gradient - tensor([[-0.0005, -0.0005, -0.0005,  ..., -0.0005, -0.0005, -0.0005],\n",
      "        [-0.0004, -0.0004, -0.0004,  ..., -0.0004, -0.0004, -0.0004],\n",
      "        [-0.0018, -0.0018, -0.0018,  ..., -0.0018, -0.0018, -0.0018],\n",
      "        ...,\n",
      "        [-0.0039, -0.0039, -0.0039,  ..., -0.0039, -0.0039, -0.0039],\n",
      "        [-0.0015, -0.0015, -0.0015,  ..., -0.0015, -0.0015, -0.0015],\n",
      "        [-0.0023, -0.0023, -0.0023,  ..., -0.0023, -0.0023, -0.0023]])\n"
     ]
    }
   ],
   "source": [
    "print('Initial weights - ', model[0].weight)\n",
    "\n",
    "images, labels = next(iter(trainloader))\n",
    "images.resize_(64, 784)\n",
    "\n",
    "# Clear the gradients, do this because gradients are accumulated\n",
    "optimizer.zero_grad()\n",
    "\n",
    "# Forward pass, then backward pass, then update weights\n",
    "output = model(images)\n",
    "loss = criterion(output, labels)\n",
    "loss.backward()\n",
    "print('Gradient -', model[0].weight.grad)"
   ]
  },
  {
   "cell_type": "code",
   "execution_count": 33,
   "metadata": {},
   "outputs": [
    {
     "name": "stdout",
     "output_type": "stream",
     "text": [
      "Updated weights -  Parameter containing:\n",
      "tensor([[ 0.0203,  0.0283, -0.0062,  ...,  0.0315, -0.0094, -0.0261],\n",
      "        [ 0.0265, -0.0189, -0.0187,  ..., -0.0154, -0.0200, -0.0341],\n",
      "        [-0.0078,  0.0060, -0.0260,  ...,  0.0203, -0.0282, -0.0114],\n",
      "        ...,\n",
      "        [ 0.0135,  0.0202,  0.0159,  ..., -0.0266, -0.0109, -0.0012],\n",
      "        [ 0.0095, -0.0157, -0.0267,  ...,  0.0202,  0.0150,  0.0168],\n",
      "        [-0.0320,  0.0247, -0.0245,  ..., -0.0356,  0.0268, -0.0301]],\n",
      "       requires_grad=True)\n"
     ]
    }
   ],
   "source": [
    "# Take an update step and few the new weights\n",
    "optimizer.step()\n",
    "print('Updated weights - ', model[0].weight)"
   ]
  },
  {
   "cell_type": "markdown",
   "metadata": {},
   "source": [
    "### Training for real\n",
    "\n",
    "Now we'll put this algorithm into a loop so we can go through all the images. Some nomenclature, one pass through the entire dataset is called an *epoch*. So here we're going to loop through `trainloader` to get our training batches. For each batch, we'll doing a training pass where we calculate the loss, do a backwards pass, and update the weights.\n",
    "\n",
    ">**Exercise:** Implement the training pass for our network. If you implemented it correctly, you should see the training loss drop with each epoch."
   ]
  },
  {
   "cell_type": "code",
   "execution_count": 38,
   "metadata": {},
   "outputs": [
    {
     "name": "stdout",
     "output_type": "stream",
     "text": [
      "Training loss: 1.8238462855312616\n",
      "Training loss: 0.7785443079306372\n",
      "Training loss: 0.5064962000798569\n",
      "Training loss: 0.42483232041665997\n",
      "Training loss: 0.38394940747762285\n"
     ]
    }
   ],
   "source": [
    "## Your solution here\n",
    "\n",
    "model = nn.Sequential(nn.Linear(784, 128),\n",
    "                      nn.ReLU(),\n",
    "                      nn.Linear(128, 64),\n",
    "                      nn.ReLU(),\n",
    "                      nn.Linear(64, 10),\n",
    "                      nn.LogSoftmax(dim=1))\n",
    "\n",
    "criterion = nn.NLLLoss()\n",
    "optimizer = optim.SGD(model.parameters(), lr=0.003)\n",
    "\n",
    "epochs = 5\n",
    "for e in range(epochs):\n",
    "    running_loss = 0\n",
    "    for images, labels in trainloader:\n",
    "        # Flatten MNIST images into a 784 long vector\n",
    "        images = images.view(images.shape[0], -1)\n",
    "    \n",
    "        # TODO: Training pass\n",
    "        optimizer.zero_grad()\n",
    "        \n",
    "        y_hats = model(images)\n",
    "        loss = criterion(y_hats, labels)\n",
    "        loss.backward()\n",
    "        optimizer.step()\n",
    "        \n",
    "        running_loss += loss.item()\n",
    "    else:\n",
    "        print(f\"Training loss: {running_loss/len(trainloader)}\")"
   ]
  },
  {
   "cell_type": "code",
   "execution_count": 39,
   "metadata": {},
   "outputs": [
    {
     "name": "stdout",
     "output_type": "stream",
     "text": [
      "Training loss: 0.35906226263403385\n",
      "Training loss: 0.3409490897568431\n",
      "Training loss: 0.3269019981167083\n",
      "Training loss: 0.31562320653722487\n",
      "Training loss: 0.30544413952653343\n"
     ]
    }
   ],
   "source": [
    "epochs = 5\n",
    "for e in range(epochs):\n",
    "    running_loss = 0\n",
    "    for images, labels in trainloader:\n",
    "        # Flatten MNIST images into a 784 long vector\n",
    "        images = images.view(images.shape[0], -1)\n",
    "    \n",
    "        # TODO: Training pass\n",
    "        optimizer.zero_grad()\n",
    "        \n",
    "        y_hats = model(images)\n",
    "        loss = criterion(y_hats, labels)\n",
    "        loss.backward()\n",
    "        optimizer.step()\n",
    "        \n",
    "        running_loss += loss.item()\n",
    "    else:\n",
    "        print(f\"Training loss: {running_loss/len(trainloader)}\")"
   ]
  },
  {
   "cell_type": "markdown",
   "metadata": {},
   "source": [
    "With the network trained, we can check out it's predictions."
   ]
  },
  {
   "cell_type": "code",
   "execution_count": 40,
   "metadata": {},
   "outputs": [
    {
     "data": {
      "image/png": "[encoded data removed]",
      "text/plain": [
       "<Figure size 432x648 with 2 Axes>"
      ]
     },
     "metadata": {
      "needs_background": "light"
     },
     "output_type": "display_data"
    }
   ],
   "source": [
    "%matplotlib inline\n",
    "import helper\n",
    "\n",
    "images, labels = next(iter(trainloader))\n",
    "\n",
    "img = images[0].view(1, 784)\n",
    "# Turn off gradients to speed up this part\n",
    "with torch.no_grad():\n",
    "    logps = model(img)\n",
    "\n",
    "# Output of the network are log-probabilities, need to take exponential for probabilities\n",
    "ps = torch.exp(logps)\n",
    "helper.view_classify(img.view(1, 28, 28), ps)"
   ]
  },
  {
   "cell_type": "markdown",
   "metadata": {},
   "source": [
    "Now our network is brilliant. It can accurately predict the digits in our images. Next up you'll write the code for training a neural network on a more complex dataset."
   ]
  }
 ],
 "metadata": {
  "kernelspec": {
   "display_name": "Python 3",
   "language": "python",
   "name": "python3"
  },
  "language_info": {
   "codemirror_mode": {
    "name": "ipython",
    "version": 3
   },
   "file_extension": ".py",
   "mimetype": "text/x-python",
   "name": "python",
   "nbconvert_exporter": "python",
   "pygments_lexer": "ipython3",
   "version": "3.6.8"
  }
 },
 "nbformat": 4,
 "nbformat_minor": 2
}
