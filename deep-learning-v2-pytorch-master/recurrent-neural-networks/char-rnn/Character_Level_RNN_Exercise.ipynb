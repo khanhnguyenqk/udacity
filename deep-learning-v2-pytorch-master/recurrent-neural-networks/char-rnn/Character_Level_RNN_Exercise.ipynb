{
 "cells": [
  {
   "cell_type": "markdown",
   "metadata": {},
   "source": [
    "# Character-Level LSTM in PyTorch\n",
    "\n",
    "In this notebook, I'll construct a character-level LSTM with PyTorch. The network will train character by character on some text, then generate new text character by character. As an example, I will train on Anna Karenina. **This model will be able to generate new text based on the text from the book!**\n",
    "\n",
    "This network is based off of Andrej Karpathy's [post on RNNs](http://karpathy.github.io/2015/05/21/rnn-effectiveness/) and [implementation in Torch](https://github.com/karpathy/char-rnn). Below is the general architecture of the character-wise RNN.\n",
    "\n",
    "<img src=\"assets/charseq.jpeg\" width=\"500\">"
   ]
  },
  {
   "cell_type": "markdown",
   "metadata": {},
   "source": [
    "First let's load in our required resources for data loading and model creation."
   ]
  },
  {
   "cell_type": "code",
   "execution_count": 1,
   "metadata": {},
   "outputs": [
    {
     "data": {
      "text/plain": [
       "True"
      ]
     },
     "execution_count": 1,
     "metadata": {},
     "output_type": "execute_result"
    }
   ],
   "source": [
    "import numpy as np\n",
    "import torch\n",
    "from torch import nn\n",
    "import torch.nn.functional as F\n",
    "\n",
    "torch.cuda.is_available()"
   ]
  },
  {
   "cell_type": "markdown",
   "metadata": {},
   "source": [
    "## Load in Data\n",
    "\n",
    "Then, we'll load the Anna Karenina text file and convert it into integers for our network to use. "
   ]
  },
  {
   "cell_type": "code",
   "execution_count": 3,
   "metadata": {},
   "outputs": [],
   "source": [
    "# open text file and read in data as `text`\n",
    "with open('data/anna.txt', 'r') as f:\n",
    "    text = f.read()"
   ]
  },
  {
   "cell_type": "markdown",
   "metadata": {},
   "source": [
    "Let's check out the first 100 characters, make sure everything is peachy. According to the [American Book Review](http://americanbookreview.org/100bestlines.asp), this is the 6th best first line of a book ever."
   ]
  },
  {
   "cell_type": "code",
   "execution_count": 4,
   "metadata": {},
   "outputs": [
    {
     "data": {
      "text/plain": [
       "'Chapter 1\\n\\n\\nHappy families are all alike; every unhappy family is unhappy in its own\\nway.\\n\\nEverythin'"
      ]
     },
     "execution_count": 4,
     "metadata": {},
     "output_type": "execute_result"
    }
   ],
   "source": [
    "text[:100]"
   ]
  },
  {
   "cell_type": "markdown",
   "metadata": {},
   "source": [
    "### Tokenization\n",
    "\n",
    "In the cells, below, I'm creating a couple **dictionaries** to convert the characters to and from integers. Encoding the characters as integers makes it easier to use as input in the network."
   ]
  },
  {
   "cell_type": "code",
   "execution_count": 5,
   "metadata": {},
   "outputs": [],
   "source": [
    "# encode the text and map each character to an integer and vice versa\n",
    "\n",
    "# we create two dictionaries:\n",
    "# 1. int2char, which maps integers to characters\n",
    "# 2. char2int, which maps characters to unique integers\n",
    "chars = tuple(set(text))\n",
    "int2char = dict(enumerate(chars))\n",
    "char2int = {ch: ii for ii, ch in int2char.items()}\n",
    "\n",
    "# encode the text\n",
    "encoded = np.array([char2int[ch] for ch in text])"
   ]
  },
  {
   "cell_type": "markdown",
   "metadata": {},
   "source": [
    "And we can see those same characters from above, encoded as integers."
   ]
  },
  {
   "cell_type": "code",
   "execution_count": 6,
   "metadata": {},
   "outputs": [
    {
     "data": {
      "text/plain": [
       "array([37, 78, 48, 19, 31, 12, 22, 47, 26, 41, 41, 41, 77, 48, 19, 19, 27,\n",
       "       47, 82, 48, 55,  1, 28,  1, 12, 62, 47, 48, 22, 12, 47, 48, 28, 28,\n",
       "       47, 48, 28,  1, 71, 12, 68, 47, 12,  0, 12, 22, 27, 47, 65, 66, 78,\n",
       "       48, 19, 19, 27, 47, 82, 48, 55,  1, 28, 27, 47,  1, 62, 47, 65, 66,\n",
       "       78, 48, 19, 19, 27, 47,  1, 66, 47,  1, 31, 62, 47, 61, 43, 66, 41,\n",
       "       43, 48, 27, 52, 41, 41, 56,  0, 12, 22, 27, 31, 78,  1, 66])"
      ]
     },
     "execution_count": 6,
     "metadata": {},
     "output_type": "execute_result"
    }
   ],
   "source": [
    "encoded[:100]"
   ]
  },
  {
   "cell_type": "markdown",
   "metadata": {},
   "source": [
    "## Pre-processing the data\n",
    "\n",
    "As you can see in our char-RNN image above, our LSTM expects an input that is **one-hot encoded** meaning that each character is converted into an integer (via our created dictionary) and *then* converted into a column vector where only it's corresponding integer index will have the value of 1 and the rest of the vector will be filled with 0's. Since we're one-hot encoding the data, let's make a function to do that!\n"
   ]
  },
  {
   "cell_type": "code",
   "execution_count": 7,
   "metadata": {},
   "outputs": [],
   "source": [
    "def one_hot_encode(arr, n_labels):\n",
    "    \n",
    "    # Initialize the the encoded array\n",
    "    one_hot = np.zeros((arr.size, n_labels), dtype=np.float32)\n",
    "    \n",
    "    # Fill the appropriate elements with ones\n",
    "    one_hot[np.arange(one_hot.shape[0]), arr.flatten()] = 1.\n",
    "    \n",
    "    # Finally reshape it to get back to the original array\n",
    "    one_hot = one_hot.reshape((*arr.shape, n_labels))\n",
    "    \n",
    "    return one_hot"
   ]
  },
  {
   "cell_type": "code",
   "execution_count": 8,
   "metadata": {},
   "outputs": [
    {
     "name": "stdout",
     "output_type": "stream",
     "text": [
      "[[[0. 0. 0. 1. 0. 0. 0. 0.]\n",
      "  [0. 0. 0. 0. 0. 1. 0. 0.]\n",
      "  [0. 1. 0. 0. 0. 0. 0. 0.]]]\n"
     ]
    }
   ],
   "source": [
    "# check that the function works as expected\n",
    "test_seq = np.array([[3, 5, 1]])\n",
    "one_hot = one_hot_encode(test_seq, 8)\n",
    "\n",
    "print(one_hot)"
   ]
  },
  {
   "cell_type": "markdown",
   "metadata": {},
   "source": [
    "## Making training mini-batches\n",
    "\n",
    "\n",
    "To train on this data, we also want to create mini-batches for training. Remember that we want our batches to be multiple sequences of some desired number of sequence steps. Considering a simple example, our batches would look like this:\n",
    "\n",
    "<img src=\"assets/sequence_batching@1x.png\" width=500px>\n",
    "\n",
    "\n",
    "<br>\n",
    "\n",
    "In this example, we'll take the encoded characters (passed in as the `arr` parameter) and split them into multiple sequences, given by `batch_size`. Each of our sequences will be `seq_length` long.\n",
    "\n",
    "### Creating Batches\n",
    "\n",
    "**1. The first thing we need to do is discard some of the text so we only have completely full mini-batches. **\n",
    "\n",
    "Each batch contains $N \\times M$ characters, where $N$ is the batch size (the number of sequences in a batch) and $M$ is the seq_length or number of time steps in a sequence. Then, to get the total number of batches, $K$, that we can make from the array `arr`, you divide the length of `arr` by the number of characters per batch. Once you know the number of batches, you can get the total number of characters to keep from `arr`, $N * M * K$.\n",
    "\n",
    "**2. After that, we need to split `arr` into $N$ batches. ** \n",
    "\n",
    "You can do this using `arr.reshape(size)` where `size` is a tuple containing the dimensions sizes of the reshaped array. We know we want $N$ sequences in a batch, so let's make that the size of the first dimension. For the second dimension, you can use `-1` as a placeholder in the size, it'll fill up the array with the appropriate data for you. After this, you should have an array that is $N \\times (M * K)$.\n",
    "\n",
    "**3. Now that we have this array, we can iterate through it to get our mini-batches. **\n",
    "\n",
    "The idea is each batch is a $N \\times M$ window on the $N \\times (M * K)$ array. For each subsequent batch, the window moves over by `seq_length`. We also want to create both the input and target arrays. Remember that the targets are just the inputs shifted over by one character. The way I like to do this window is use `range` to take steps of size `n_steps` from $0$ to `arr.shape[1]`, the total number of tokens in each sequence. That way, the integers you get from `range` always point to the start of a batch, and each window is `seq_length` wide.\n",
    "\n",
    "> **TODO:** Write the code for creating batches in the function below. The exercises in this notebook _will not be easy_. I've provided a notebook with solutions alongside this notebook. If you get stuck, checkout the solutions. The most important thing is that you don't copy and paste the code into here, **type out the solution code yourself.**"
   ]
  },
  {
   "cell_type": "code",
   "execution_count": 9,
   "metadata": {},
   "outputs": [],
   "source": [
    "def get_batches(arr, batch_size, seq_length):\n",
    "    '''Create a generator that returns batches of size\n",
    "       batch_size x seq_length from arr.\n",
    "       \n",
    "       Arguments\n",
    "       ---------\n",
    "       arr: Array you want to make batches from\n",
    "       batch_size: Batch size, the number of sequences per batch\n",
    "       seq_length: Number of encoded chars in a sequence\n",
    "    '''\n",
    "    \n",
    "    ## TODO: Get the number of batches we can make\n",
    "    n_batches = len(arr) // (batch_size * seq_length)\n",
    "    \n",
    "    ## TODO: Keep only enough characters to make full batches\n",
    "    arr = arr[:n_batches * batch_size * seq_length]\n",
    "    \n",
    "    ## TODO: Reshape into batch_size rows\n",
    "    arr = arr.reshape((batch_size, -1))\n",
    "    \n",
    "    ## TODO: Iterate over the batches using a window of size seq_length\n",
    "    for n in range(0, arr.shape[1], seq_length):\n",
    "        # The features\n",
    "        x = arr[:,n:n+seq_length]\n",
    "        # The targets, shifted by one\n",
    "        y = np.zeros_like(x)\n",
    "        try:\n",
    "            y[:, :-1], y[:, -1] = x[:, 1:], arr[:, n+seq_length]\n",
    "        except IndexError:\n",
    "            y[:, :-1], y[:, -1] = x[:, 1:], arr[:, 0]\n",
    "        yield x, y"
   ]
  },
  {
   "cell_type": "markdown",
   "metadata": {},
   "source": [
    "### Test Your Implementation\n",
    "\n",
    "Now I'll make some data sets and we can check out what's going on as we batch data. Here, as an example, I'm going to use a batch size of 8 and 50 sequence steps."
   ]
  },
  {
   "cell_type": "code",
   "execution_count": 10,
   "metadata": {},
   "outputs": [],
   "source": [
    "batches = get_batches(encoded, 8, 50)\n",
    "x, y = next(batches)"
   ]
  },
  {
   "cell_type": "code",
   "execution_count": 11,
   "metadata": {},
   "outputs": [
    {
     "name": "stdout",
     "output_type": "stream",
     "text": [
      "x\n",
      " [[37 78 48 19 31 12 22 47 26 41]\n",
      " [62 61 66 47 31 78 48 31 47 48]\n",
      " [12 66 11 47 61 22 47 48 47 82]\n",
      " [62 47 31 78 12 47 29 78  1 12]\n",
      " [47 62 48 43 47 78 12 22 47 31]\n",
      " [29 65 62 62  1 61 66 47 48 66]\n",
      " [47 59 66 66 48 47 78 48 11 47]\n",
      " [17  6 28 61 66 62 71 27 52 47]]\n",
      "\n",
      "y\n",
      " [[78 48 19 31 12 22 47 26 41 41]\n",
      " [61 66 47 31 78 48 31 47 48 31]\n",
      " [66 11 47 61 22 47 48 47 82 61]\n",
      " [47 31 78 12 47 29 78  1 12 82]\n",
      " [62 48 43 47 78 12 22 47 31 12]\n",
      " [65 62 62  1 61 66 47 48 66 11]\n",
      " [59 66 66 48 47 78 48 11 47 62]\n",
      " [ 6 28 61 66 62 71 27 52 47  5]]\n"
     ]
    }
   ],
   "source": [
    "# printing out the first 10 items in a sequence\n",
    "print('x\\n', x[:10, :10])\n",
    "print('\\ny\\n', y[:10, :10])"
   ]
  },
  {
   "cell_type": "markdown",
   "metadata": {},
   "source": [
    "If you implemented `get_batches` correctly, the above output should look something like \n",
    "```\n",
    "x\n",
    " [[25  8 60 11 45 27 28 73  1  2]\n",
    " [17  7 20 73 45  8 60 45 73 60]\n",
    " [27 20 80 73  7 28 73 60 73 65]\n",
    " [17 73 45  8 27 73 66  8 46 27]\n",
    " [73 17 60 12 73  8 27 28 73 45]\n",
    " [66 64 17 17 46  7 20 73 60 20]\n",
    " [73 76 20 20 60 73  8 60 80 73]\n",
    " [47 35 43  7 20 17 24 50 37 73]]\n",
    "\n",
    "y\n",
    " [[ 8 60 11 45 27 28 73  1  2  2]\n",
    " [ 7 20 73 45  8 60 45 73 60 45]\n",
    " [20 80 73  7 28 73 60 73 65  7]\n",
    " [73 45  8 27 73 66  8 46 27 65]\n",
    " [17 60 12 73  8 27 28 73 45 27]\n",
    " [64 17 17 46  7 20 73 60 20 80]\n",
    " [76 20 20 60 73  8 60 80 73 17]\n",
    " [35 43  7 20 17 24 50 37 73 36]]\n",
    " ```\n",
    " although the exact numbers may be different. Check to make sure the data is shifted over one step for `y`."
   ]
  },
  {
   "cell_type": "markdown",
   "metadata": {},
   "source": [
    "---\n",
    "## Defining the network with PyTorch\n",
    "\n",
    "Below is where you'll define the network.\n",
    "\n",
    "<img src=\"assets/charRNN.png\" width=500px>\n",
    "\n",
    "Next, you'll use PyTorch to define the architecture of the network. We start by defining the layers and operations we want. Then, define a method for the forward pass. You've also been given a method for predicting characters."
   ]
  },
  {
   "cell_type": "markdown",
   "metadata": {},
   "source": [
    "### Model Structure\n",
    "\n",
    "In `__init__` the suggested structure is as follows:\n",
    "* Create and store the necessary dictionaries (this has been done for you)\n",
    "* Define an LSTM layer that takes as params: an input size (the number of characters), a hidden layer size `n_hidden`, a number of layers `n_layers`, a dropout probability `drop_prob`, and a batch_first boolean (True, since we are batching)\n",
    "* Define a dropout layer with `drop_prob`\n",
    "* Define a fully-connected layer with params: input size `n_hidden` and output size (the number of characters)\n",
    "* Finally, initialize the weights (again, this has been given)\n",
    "\n",
    "Note that some parameters have been named and given in the `__init__` function, and we use them and store them by doing something like `self.drop_prob = drop_prob`."
   ]
  },
  {
   "cell_type": "markdown",
   "metadata": {},
   "source": [
    "---\n",
    "### LSTM Inputs/Outputs\n",
    "\n",
    "You can create a basic [LSTM layer](https://pytorch.org/docs/stable/nn.html#lstm) as follows\n",
    "\n",
    "```python\n",
    "self.lstm = nn.LSTM(input_size, n_hidden, n_layers, \n",
    "                            dropout=drop_prob, batch_first=True)\n",
    "```\n",
    "\n",
    "where `input_size` is the number of characters this cell expects to see as sequential input, and `n_hidden` is the number of units in the hidden layers in the cell. And we can add dropout by adding a dropout parameter with a specified probability; this will automatically add dropout to the inputs or outputs. Finally, in the `forward` function, we can stack up the LSTM cells into layers using `.view`. With this, you pass in a list of cells and it will send the output of one cell into the next cell.\n",
    "\n",
    "We also need to create an initial hidden state of all zeros. This is done like so\n",
    "\n",
    "```python\n",
    "self.init_hidden()\n",
    "```"
   ]
  },
  {
   "cell_type": "code",
   "execution_count": 12,
   "metadata": {},
   "outputs": [
    {
     "name": "stdout",
     "output_type": "stream",
     "text": [
      "Training on GPU!\n"
     ]
    }
   ],
   "source": [
    "# check if GPU is available\n",
    "train_on_gpu = torch.cuda.is_available()\n",
    "if(train_on_gpu):\n",
    "    print('Training on GPU!')\n",
    "else: \n",
    "    print('No GPU available, training on CPU; consider making n_epochs very small.')"
   ]
  },
  {
   "cell_type": "code",
   "execution_count": 16,
   "metadata": {},
   "outputs": [],
   "source": [
    "class CharRNN(nn.Module):\n",
    "    \n",
    "    def __init__(self, tokens, n_hidden=256, n_layers=2,\n",
    "                               drop_prob=0.5, lr=0.001):\n",
    "        super().__init__()\n",
    "        self.drop_prob = drop_prob\n",
    "        self.n_layers = n_layers\n",
    "        self.n_hidden = n_hidden\n",
    "        self.lr = lr\n",
    "        \n",
    "        # creating character dictionaries\n",
    "        self.chars = tokens\n",
    "        self.int2char = dict(enumerate(self.chars))\n",
    "        self.char2int = {ch: ii for ii, ch in self.int2char.items()}\n",
    "        \n",
    "        ## TODO: define the layers of the model\n",
    "        self.lstm = nn.LSTM(len(tokens), n_hidden, n_layers, dropout=drop_prob, batch_first=True)\n",
    "        self.dropout = nn.Dropout(p=drop_prob)\n",
    "        self.fc = nn.Linear(n_hidden, len(tokens))\n",
    "      \n",
    "    \n",
    "    def forward(self, x, hidden):\n",
    "        ''' Forward pass through the network. \n",
    "            These inputs are x, and the hidden/cell state `hidden`. '''\n",
    "                \n",
    "        ## TODO: Get the outputs and the new hidden state from the lstm\n",
    "        routput, hidden = self.lstm(x, hidden)\n",
    "        \n",
    "        doutput = self.dropout(routput)\n",
    "        \n",
    "        fc_input = doutput.contiguous().view(-1, self.n_hidden)\n",
    "        \n",
    "        out = self.fc(fc_input)\n",
    "        \n",
    "        # return the final output and the hidden state\n",
    "        return out, hidden\n",
    "    \n",
    "    \n",
    "    def init_hidden(self, batch_size):\n",
    "        ''' Initializes hidden state '''\n",
    "        # Create two new tensors with sizes n_layers x batch_size x n_hidden,\n",
    "        # initialized to zero, for hidden state and cell state of LSTM\n",
    "        weight = next(self.parameters()).data\n",
    "        \n",
    "        if (train_on_gpu):\n",
    "            hidden = (weight.new(self.n_layers, batch_size, self.n_hidden).zero_().cuda(),\n",
    "                  weight.new(self.n_layers, batch_size, self.n_hidden).zero_().cuda())\n",
    "        else:\n",
    "            hidden = (weight.new(self.n_layers, batch_size, self.n_hidden).zero_(),\n",
    "                      weight.new(self.n_layers, batch_size, self.n_hidden).zero_())\n",
    "        \n",
    "        return hidden\n",
    "        "
   ]
  },
  {
   "cell_type": "markdown",
   "metadata": {},
   "source": [
    "## Time to train\n",
    "\n",
    "The train function gives us the ability to set the number of epochs, the learning rate, and other parameters.\n",
    "\n",
    "Below we're using an Adam optimizer and cross entropy loss since we are looking at character class scores as output. We calculate the loss and perform backpropagation, as usual!\n",
    "\n",
    "A couple of details about training: \n",
    ">* Within the batch loop, we detach the hidden state from its history; this time setting it equal to a new *tuple* variable because an LSTM has a hidden state that is a tuple of the hidden and cell states.\n",
    "* We use [`clip_grad_norm_`](https://pytorch.org/docs/stable/_modules/torch/nn/utils/clip_grad.html) to help prevent exploding gradients."
   ]
  },
  {
   "cell_type": "code",
   "execution_count": 17,
   "metadata": {},
   "outputs": [],
   "source": [
    "def train(net, data, epochs=10, batch_size=10, seq_length=50, lr=0.001, clip=5, val_frac=0.1, print_every=10):\n",
    "    ''' Training a network \n",
    "    \n",
    "        Arguments\n",
    "        ---------\n",
    "        \n",
    "        net: CharRNN network\n",
    "        data: text data to train the network\n",
    "        epochs: Number of epochs to train\n",
    "        batch_size: Number of mini-sequences per mini-batch, aka batch size\n",
    "        seq_length: Number of character steps per mini-batch\n",
    "        lr: learning rate\n",
    "        clip: gradient clipping\n",
    "        val_frac: Fraction of data to hold out for validation\n",
    "        print_every: Number of steps for printing training and validation loss\n",
    "    \n",
    "    '''\n",
    "    net.train()\n",
    "    \n",
    "    opt = torch.optim.Adam(net.parameters(), lr=lr)\n",
    "    criterion = nn.CrossEntropyLoss()\n",
    "    \n",
    "    # create training and validation data\n",
    "    val_idx = int(len(data)*(1-val_frac))\n",
    "    data, val_data = data[:val_idx], data[val_idx:]\n",
    "    \n",
    "    if(train_on_gpu):\n",
    "        net.cuda()\n",
    "    \n",
    "    counter = 0\n",
    "    n_chars = len(net.chars)\n",
    "    for e in range(epochs):\n",
    "        # initialize hidden state\n",
    "        h = net.init_hidden(batch_size)\n",
    "        \n",
    "        for x, y in get_batches(data, batch_size, seq_length):\n",
    "            counter += 1\n",
    "            \n",
    "            # One-hot encode our data and make them Torch tensors\n",
    "            x = one_hot_encode(x, n_chars)\n",
    "            inputs, targets = torch.from_numpy(x), torch.from_numpy(y)\n",
    "            \n",
    "            if(train_on_gpu):\n",
    "                inputs, targets = inputs.cuda(), targets.cuda()\n",
    "\n",
    "            # Creating new variables for the hidden state, otherwise\n",
    "            # we'd backprop through the entire training history\n",
    "            h = tuple([each.data for each in h])\n",
    "\n",
    "            # zero accumulated gradients\n",
    "            net.zero_grad()\n",
    "            \n",
    "            # get the output from the model\n",
    "            output, h = net(inputs, h)\n",
    "            \n",
    "            # calculate the loss and perform backprop\n",
    "            loss = criterion(output, targets.view(batch_size*seq_length).long())\n",
    "            loss.backward()\n",
    "            # `clip_grad_norm` helps prevent the exploding gradient problem in RNNs / LSTMs.\n",
    "            nn.utils.clip_grad_norm_(net.parameters(), clip)\n",
    "            opt.step()\n",
    "            \n",
    "            # loss stats\n",
    "            if counter % print_every == 0:\n",
    "                # Get validation loss\n",
    "                val_h = net.init_hidden(batch_size)\n",
    "                val_losses = []\n",
    "                net.eval()\n",
    "                for x, y in get_batches(val_data, batch_size, seq_length):\n",
    "                    # One-hot encode our data and make them Torch tensors\n",
    "                    x = one_hot_encode(x, n_chars)\n",
    "                    x, y = torch.from_numpy(x), torch.from_numpy(y)\n",
    "                    \n",
    "                    # Creating new variables for the hidden state, otherwise\n",
    "                    # we'd backprop through the entire training history\n",
    "                    val_h = tuple([each.data for each in val_h])\n",
    "                    \n",
    "                    inputs, targets = x, y\n",
    "                    if(train_on_gpu):\n",
    "                        inputs, targets = inputs.cuda(), targets.cuda()\n",
    "\n",
    "                    output, val_h = net(inputs, val_h)\n",
    "                    val_loss = criterion(output, targets.view(batch_size*seq_length).long())\n",
    "                \n",
    "                    val_losses.append(val_loss.item())\n",
    "                \n",
    "                net.train() # reset to train mode after iterationg through validation data\n",
    "                \n",
    "                print(\"Epoch: {}/{}...\".format(e+1, epochs),\n",
    "                      \"Step: {}...\".format(counter),\n",
    "                      \"Loss: {:.4f}...\".format(loss.item()),\n",
    "                      \"Val Loss: {:.4f}\".format(np.mean(val_losses)))"
   ]
  },
  {
   "cell_type": "markdown",
   "metadata": {},
   "source": [
    "## Instantiating the model\n",
    "\n",
    "Now we can actually train the network. First we'll create the network itself, with some given hyperparameters. Then, define the mini-batches sizes, and start training!"
   ]
  },
  {
   "cell_type": "code",
   "execution_count": 20,
   "metadata": {},
   "outputs": [
    {
     "name": "stdout",
     "output_type": "stream",
     "text": [
      "CharRNN(\n",
      "  (lstm): LSTM(83, 512, num_layers=2, batch_first=True, dropout=0.5)\n",
      "  (dropout): Dropout(p=0.5)\n",
      "  (fc): Linear(in_features=512, out_features=83, bias=True)\n",
      ")\n"
     ]
    }
   ],
   "source": [
    "## TODO: set your model hyperparameters\n",
    "# define and print the net\n",
    "n_hidden=512\n",
    "n_layers=2\n",
    "\n",
    "net = CharRNN(chars, n_hidden, n_layers)\n",
    "print(net)"
   ]
  },
  {
   "cell_type": "markdown",
   "metadata": {},
   "source": [
    "### Set your training hyperparameters!"
   ]
  },
  {
   "cell_type": "code",
   "execution_count": 21,
   "metadata": {
    "scrolled": true
   },
   "outputs": [
    {
     "name": "stdout",
     "output_type": "stream",
     "text": [
      "Epoch: 1/20... Step: 10... Loss: 3.2487... Val Loss: 3.1750\n",
      "Epoch: 1/20... Step: 20... Loss: 3.1438... Val Loss: 3.1335\n",
      "Epoch: 1/20... Step: 30... Loss: 3.1376... Val Loss: 3.1205\n",
      "Epoch: 1/20... Step: 40... Loss: 3.1129... Val Loss: 3.1189\n",
      "Epoch: 1/20... Step: 50... Loss: 3.1415... Val Loss: 3.1169\n",
      "Epoch: 1/20... Step: 60... Loss: 3.1187... Val Loss: 3.1141\n",
      "Epoch: 1/20... Step: 70... Loss: 3.1048... Val Loss: 3.1109\n",
      "Epoch: 1/20... Step: 80... Loss: 3.1170... Val Loss: 3.1033\n",
      "Epoch: 1/20... Step: 90... Loss: 3.1070... Val Loss: 3.0855\n",
      "Epoch: 1/20... Step: 100... Loss: 3.0574... Val Loss: 3.0420\n",
      "Epoch: 1/20... Step: 110... Loss: 3.0037... Val Loss: 2.9806\n",
      "Epoch: 1/20... Step: 120... Loss: 2.8786... Val Loss: 2.8574\n",
      "Epoch: 1/20... Step: 130... Loss: 2.8066... Val Loss: 2.7534\n",
      "Epoch: 2/20... Step: 140... Loss: 2.6884... Val Loss: 2.6314\n",
      "Epoch: 2/20... Step: 150... Loss: 2.5970... Val Loss: 2.5515\n",
      "Epoch: 2/20... Step: 160... Loss: 2.5382... Val Loss: 2.4927\n",
      "Epoch: 2/20... Step: 170... Loss: 2.4640... Val Loss: 2.4518\n",
      "Epoch: 2/20... Step: 180... Loss: 2.4592... Val Loss: 2.4552\n",
      "Epoch: 2/20... Step: 190... Loss: 2.4094... Val Loss: 2.3972\n",
      "Epoch: 2/20... Step: 200... Loss: 2.3920... Val Loss: 2.3592\n",
      "Epoch: 2/20... Step: 210... Loss: 2.3565... Val Loss: 2.3298\n",
      "Epoch: 2/20... Step: 220... Loss: 2.3191... Val Loss: 2.2971\n",
      "Epoch: 2/20... Step: 230... Loss: 2.3028... Val Loss: 2.2686\n",
      "Epoch: 2/20... Step: 240... Loss: 2.2887... Val Loss: 2.2494\n",
      "Epoch: 2/20... Step: 250... Loss: 2.2188... Val Loss: 2.2257\n",
      "Epoch: 2/20... Step: 260... Loss: 2.1950... Val Loss: 2.1976\n",
      "Epoch: 2/20... Step: 270... Loss: 2.1986... Val Loss: 2.1749\n",
      "Epoch: 3/20... Step: 280... Loss: 2.1944... Val Loss: 2.1517\n",
      "Epoch: 3/20... Step: 290... Loss: 2.1606... Val Loss: 2.1255\n",
      "Epoch: 3/20... Step: 300... Loss: 2.1362... Val Loss: 2.1120\n",
      "Epoch: 3/20... Step: 310... Loss: 2.1145... Val Loss: 2.0920\n",
      "Epoch: 3/20... Step: 320... Loss: 2.0776... Val Loss: 2.0682\n",
      "Epoch: 3/20... Step: 330... Loss: 2.0477... Val Loss: 2.0496\n",
      "Epoch: 3/20... Step: 340... Loss: 2.0750... Val Loss: 2.0397\n",
      "Epoch: 3/20... Step: 350... Loss: 2.0542... Val Loss: 2.0155\n",
      "Epoch: 3/20... Step: 360... Loss: 1.9831... Val Loss: 1.9972\n",
      "Epoch: 3/20... Step: 370... Loss: 2.0204... Val Loss: 1.9821\n",
      "Epoch: 3/20... Step: 380... Loss: 1.9812... Val Loss: 1.9625\n",
      "Epoch: 3/20... Step: 390... Loss: 1.9688... Val Loss: 1.9480\n",
      "Epoch: 3/20... Step: 400... Loss: 1.9351... Val Loss: 1.9301\n",
      "Epoch: 3/20... Step: 410... Loss: 1.9487... Val Loss: 1.9180\n",
      "Epoch: 4/20... Step: 420... Loss: 1.9385... Val Loss: 1.9031\n",
      "Epoch: 4/20... Step: 430... Loss: 1.9203... Val Loss: 1.8889\n",
      "Epoch: 4/20... Step: 440... Loss: 1.9102... Val Loss: 1.8808\n",
      "Epoch: 4/20... Step: 450... Loss: 1.8479... Val Loss: 1.8634\n",
      "Epoch: 4/20... Step: 460... Loss: 1.8355... Val Loss: 1.8509\n",
      "Epoch: 4/20... Step: 470... Loss: 1.8719... Val Loss: 1.8421\n",
      "Epoch: 4/20... Step: 480... Loss: 1.8490... Val Loss: 1.8240\n",
      "Epoch: 4/20... Step: 490... Loss: 1.8448... Val Loss: 1.8143\n",
      "Epoch: 4/20... Step: 500... Loss: 1.8428... Val Loss: 1.8077\n",
      "Epoch: 4/20... Step: 510... Loss: 1.8147... Val Loss: 1.7962\n",
      "Epoch: 4/20... Step: 520... Loss: 1.8320... Val Loss: 1.7855\n",
      "Epoch: 4/20... Step: 530... Loss: 1.7918... Val Loss: 1.7775\n",
      "Epoch: 4/20... Step: 540... Loss: 1.7541... Val Loss: 1.7671\n",
      "Epoch: 4/20... Step: 550... Loss: 1.8016... Val Loss: 1.7566\n",
      "Epoch: 5/20... Step: 560... Loss: 1.7669... Val Loss: 1.7452\n",
      "Epoch: 5/20... Step: 570... Loss: 1.7579... Val Loss: 1.7345\n",
      "Epoch: 5/20... Step: 580... Loss: 1.7382... Val Loss: 1.7269\n",
      "Epoch: 5/20... Step: 590... Loss: 1.7377... Val Loss: 1.7175\n",
      "Epoch: 5/20... Step: 600... Loss: 1.7208... Val Loss: 1.7108\n",
      "Epoch: 5/20... Step: 610... Loss: 1.7118... Val Loss: 1.7048\n",
      "Epoch: 5/20... Step: 620... Loss: 1.7149... Val Loss: 1.6964\n",
      "Epoch: 5/20... Step: 630... Loss: 1.7254... Val Loss: 1.6916\n",
      "Epoch: 5/20... Step: 640... Loss: 1.6988... Val Loss: 1.6821\n",
      "Epoch: 5/20... Step: 650... Loss: 1.6897... Val Loss: 1.6744\n",
      "Epoch: 5/20... Step: 660... Loss: 1.6578... Val Loss: 1.6655\n",
      "Epoch: 5/20... Step: 670... Loss: 1.6909... Val Loss: 1.6613\n",
      "Epoch: 5/20... Step: 680... Loss: 1.6800... Val Loss: 1.6533\n",
      "Epoch: 5/20... Step: 690... Loss: 1.6650... Val Loss: 1.6484\n",
      "Epoch: 6/20... Step: 700... Loss: 1.6569... Val Loss: 1.6390\n",
      "Epoch: 6/20... Step: 710... Loss: 1.6472... Val Loss: 1.6382\n",
      "Epoch: 6/20... Step: 720... Loss: 1.6251... Val Loss: 1.6301\n",
      "Epoch: 6/20... Step: 730... Loss: 1.6496... Val Loss: 1.6228\n",
      "Epoch: 6/20... Step: 740... Loss: 1.6121... Val Loss: 1.6232\n",
      "Epoch: 6/20... Step: 750... Loss: 1.6053... Val Loss: 1.6170\n",
      "Epoch: 6/20... Step: 760... Loss: 1.6312... Val Loss: 1.6102\n",
      "Epoch: 6/20... Step: 770... Loss: 1.6221... Val Loss: 1.6062\n",
      "Epoch: 6/20... Step: 780... Loss: 1.6041... Val Loss: 1.6029\n",
      "Epoch: 6/20... Step: 790... Loss: 1.5881... Val Loss: 1.5967\n",
      "Epoch: 6/20... Step: 800... Loss: 1.6013... Val Loss: 1.5904\n",
      "Epoch: 6/20... Step: 810... Loss: 1.5966... Val Loss: 1.5871\n",
      "Epoch: 6/20... Step: 820... Loss: 1.5526... Val Loss: 1.5799\n",
      "Epoch: 6/20... Step: 830... Loss: 1.6042... Val Loss: 1.5790\n",
      "Epoch: 7/20... Step: 840... Loss: 1.5577... Val Loss: 1.5720\n",
      "Epoch: 7/20... Step: 850... Loss: 1.5784... Val Loss: 1.5647\n",
      "Epoch: 7/20... Step: 860... Loss: 1.5532... Val Loss: 1.5619\n",
      "Epoch: 7/20... Step: 870... Loss: 1.5633... Val Loss: 1.5577\n",
      "Epoch: 7/20... Step: 880... Loss: 1.5648... Val Loss: 1.5542\n",
      "Epoch: 7/20... Step: 890... Loss: 1.5635... Val Loss: 1.5511\n",
      "Epoch: 7/20... Step: 900... Loss: 1.5465... Val Loss: 1.5517\n",
      "Epoch: 7/20... Step: 910... Loss: 1.5163... Val Loss: 1.5465\n",
      "Epoch: 7/20... Step: 920... Loss: 1.5438... Val Loss: 1.5418\n",
      "Epoch: 7/20... Step: 930... Loss: 1.5343... Val Loss: 1.5367\n",
      "Epoch: 7/20... Step: 940... Loss: 1.5313... Val Loss: 1.5345\n",
      "Epoch: 7/20... Step: 950... Loss: 1.5354... Val Loss: 1.5279\n",
      "Epoch: 7/20... Step: 960... Loss: 1.5452... Val Loss: 1.5265\n",
      "Epoch: 7/20... Step: 970... Loss: 1.5508... Val Loss: 1.5208\n",
      "Epoch: 8/20... Step: 980... Loss: 1.5229... Val Loss: 1.5179\n",
      "Epoch: 8/20... Step: 990... Loss: 1.5148... Val Loss: 1.5156\n",
      "Epoch: 8/20... Step: 1000... Loss: 1.5002... Val Loss: 1.5085\n",
      "Epoch: 8/20... Step: 1010... Loss: 1.5502... Val Loss: 1.5137\n",
      "Epoch: 8/20... Step: 1020... Loss: 1.5180... Val Loss: 1.5057\n",
      "Epoch: 8/20... Step: 1030... Loss: 1.5019... Val Loss: 1.5034\n",
      "Epoch: 8/20... Step: 1040... Loss: 1.5059... Val Loss: 1.4957\n",
      "Epoch: 8/20... Step: 1050... Loss: 1.4876... Val Loss: 1.4972\n",
      "Epoch: 8/20... Step: 1060... Loss: 1.4963... Val Loss: 1.4945\n",
      "Epoch: 8/20... Step: 1070... Loss: 1.4930... Val Loss: 1.4911\n",
      "Epoch: 8/20... Step: 1080... Loss: 1.4907... Val Loss: 1.4908\n",
      "Epoch: 8/20... Step: 1090... Loss: 1.4782... Val Loss: 1.4833\n",
      "Epoch: 8/20... Step: 1100... Loss: 1.4645... Val Loss: 1.4780\n",
      "Epoch: 8/20... Step: 1110... Loss: 1.4767... Val Loss: 1.4755\n",
      "Epoch: 9/20... Step: 1120... Loss: 1.4905... Val Loss: 1.4761\n",
      "Epoch: 9/20... Step: 1130... Loss: 1.4729... Val Loss: 1.4745\n",
      "Epoch: 9/20... Step: 1140... Loss: 1.4740... Val Loss: 1.4681\n",
      "Epoch: 9/20... Step: 1150... Loss: 1.5001... Val Loss: 1.4680\n",
      "Epoch: 9/20... Step: 1160... Loss: 1.4512... Val Loss: 1.4648\n",
      "Epoch: 9/20... Step: 1170... Loss: 1.4661... Val Loss: 1.4642\n",
      "Epoch: 9/20... Step: 1180... Loss: 1.4532... Val Loss: 1.4597\n",
      "Epoch: 9/20... Step: 1190... Loss: 1.4851... Val Loss: 1.4589\n",
      "Epoch: 9/20... Step: 1200... Loss: 1.4384... Val Loss: 1.4570\n",
      "Epoch: 9/20... Step: 1210... Loss: 1.4445... Val Loss: 1.4529\n",
      "Epoch: 9/20... Step: 1220... Loss: 1.4484... Val Loss: 1.4557\n",
      "Epoch: 9/20... Step: 1230... Loss: 1.4238... Val Loss: 1.4487\n",
      "Epoch: 9/20... Step: 1240... Loss: 1.4341... Val Loss: 1.4431\n",
      "Epoch: 9/20... Step: 1250... Loss: 1.4407... Val Loss: 1.4439\n",
      "Epoch: 10/20... Step: 1260... Loss: 1.4442... Val Loss: 1.4445\n",
      "Epoch: 10/20... Step: 1270... Loss: 1.4315... Val Loss: 1.4388\n",
      "Epoch: 10/20... Step: 1280... Loss: 1.4472... Val Loss: 1.4371\n",
      "Epoch: 10/20... Step: 1290... Loss: 1.4348... Val Loss: 1.4404\n",
      "Epoch: 10/20... Step: 1300... Loss: 1.4219... Val Loss: 1.4349\n",
      "Epoch: 10/20... Step: 1310... Loss: 1.4258... Val Loss: 1.4322\n",
      "Epoch: 10/20... Step: 1320... Loss: 1.3951... Val Loss: 1.4299\n",
      "Epoch: 10/20... Step: 1330... Loss: 1.4068... Val Loss: 1.4303\n",
      "Epoch: 10/20... Step: 1340... Loss: 1.3957... Val Loss: 1.4274\n",
      "Epoch: 10/20... Step: 1350... Loss: 1.3856... Val Loss: 1.4275\n",
      "Epoch: 10/20... Step: 1360... Loss: 1.3972... Val Loss: 1.4276\n",
      "Epoch: 10/20... Step: 1370... Loss: 1.3926... Val Loss: 1.4271\n",
      "Epoch: 10/20... Step: 1380... Loss: 1.4272... Val Loss: 1.4204\n",
      "Epoch: 10/20... Step: 1390... Loss: 1.4360... Val Loss: 1.4188\n",
      "Epoch: 11/20... Step: 1400... Loss: 1.4332... Val Loss: 1.4181\n",
      "Epoch: 11/20... Step: 1410... Loss: 1.4473... Val Loss: 1.4170\n",
      "Epoch: 11/20... Step: 1420... Loss: 1.4355... Val Loss: 1.4145\n",
      "Epoch: 11/20... Step: 1430... Loss: 1.3936... Val Loss: 1.4188\n",
      "Epoch: 11/20... Step: 1440... Loss: 1.4363... Val Loss: 1.4113\n",
      "Epoch: 11/20... Step: 1450... Loss: 1.3454... Val Loss: 1.4121\n",
      "Epoch: 11/20... Step: 1460... Loss: 1.3699... Val Loss: 1.4070\n",
      "Epoch: 11/20... Step: 1470... Loss: 1.3713... Val Loss: 1.4044\n",
      "Epoch: 11/20... Step: 1480... Loss: 1.3905... Val Loss: 1.4033\n",
      "Epoch: 11/20... Step: 1490... Loss: 1.3776... Val Loss: 1.4053\n",
      "Epoch: 11/20... Step: 1500... Loss: 1.3650... Val Loss: 1.4046\n",
      "Epoch: 11/20... Step: 1510... Loss: 1.3575... Val Loss: 1.4012\n",
      "Epoch: 11/20... Step: 1520... Loss: 1.4017... Val Loss: 1.3957\n",
      "Epoch: 12/20... Step: 1530... Loss: 1.4371... Val Loss: 1.3973\n",
      "Epoch: 12/20... Step: 1540... Loss: 1.3945... Val Loss: 1.3960\n",
      "Epoch: 12/20... Step: 1550... Loss: 1.3943... Val Loss: 1.3914\n",
      "Epoch: 12/20... Step: 1560... Loss: 1.4083... Val Loss: 1.3898\n",
      "Epoch: 12/20... Step: 1570... Loss: 1.3557... Val Loss: 1.3944\n",
      "Epoch: 12/20... Step: 1580... Loss: 1.3340... Val Loss: 1.3898\n",
      "Epoch: 12/20... Step: 1590... Loss: 1.3388... Val Loss: 1.3883\n",
      "Epoch: 12/20... Step: 1600... Loss: 1.3585... Val Loss: 1.3862\n",
      "Epoch: 12/20... Step: 1610... Loss: 1.3459... Val Loss: 1.3890\n",
      "Epoch: 12/20... Step: 1620... Loss: 1.3453... Val Loss: 1.3842\n",
      "Epoch: 12/20... Step: 1630... Loss: 1.3726... Val Loss: 1.3831\n",
      "Epoch: 12/20... Step: 1640... Loss: 1.3538... Val Loss: 1.3862\n",
      "Epoch: 12/20... Step: 1650... Loss: 1.3205... Val Loss: 1.3817\n",
      "Epoch: 12/20... Step: 1660... Loss: 1.3755... Val Loss: 1.3767\n",
      "Epoch: 13/20... Step: 1670... Loss: 1.3487... Val Loss: 1.3833\n",
      "Epoch: 13/20... Step: 1680... Loss: 1.3599... Val Loss: 1.3772\n",
      "Epoch: 13/20... Step: 1690... Loss: 1.3465... Val Loss: 1.3754\n",
      "Epoch: 13/20... Step: 1700... Loss: 1.3414... Val Loss: 1.3760\n",
      "Epoch: 13/20... Step: 1710... Loss: 1.3155... Val Loss: 1.3756\n",
      "Epoch: 13/20... Step: 1720... Loss: 1.3237... Val Loss: 1.3766\n",
      "Epoch: 13/20... Step: 1730... Loss: 1.3647... Val Loss: 1.3729\n",
      "Epoch: 13/20... Step: 1740... Loss: 1.3321... Val Loss: 1.3735\n",
      "Epoch: 13/20... Step: 1750... Loss: 1.3054... Val Loss: 1.3769\n",
      "Epoch: 13/20... Step: 1760... Loss: 1.3301... Val Loss: 1.3730\n",
      "Epoch: 13/20... Step: 1770... Loss: 1.3543... Val Loss: 1.3719\n",
      "Epoch: 13/20... Step: 1780... Loss: 1.3182... Val Loss: 1.3693\n",
      "Epoch: 13/20... Step: 1790... Loss: 1.3110... Val Loss: 1.3681\n",
      "Epoch: 13/20... Step: 1800... Loss: 1.3350... Val Loss: 1.3640\n",
      "Epoch: 14/20... Step: 1810... Loss: 1.3429... Val Loss: 1.3712\n",
      "Epoch: 14/20... Step: 1820... Loss: 1.3278... Val Loss: 1.3657\n",
      "Epoch: 14/20... Step: 1830... Loss: 1.3511... Val Loss: 1.3621\n",
      "Epoch: 14/20... Step: 1840... Loss: 1.2967... Val Loss: 1.3618\n",
      "Epoch: 14/20... Step: 1850... Loss: 1.2844... Val Loss: 1.3604\n",
      "Epoch: 14/20... Step: 1860... Loss: 1.3362... Val Loss: 1.3577\n",
      "Epoch: 14/20... Step: 1870... Loss: 1.3424... Val Loss: 1.3574\n",
      "Epoch: 14/20... Step: 1880... Loss: 1.3357... Val Loss: 1.3587\n",
      "Epoch: 14/20... Step: 1890... Loss: 1.3410... Val Loss: 1.3606\n",
      "Epoch: 14/20... Step: 1900... Loss: 1.3223... Val Loss: 1.3569\n",
      "Epoch: 14/20... Step: 1910... Loss: 1.3324... Val Loss: 1.3578\n",
      "Epoch: 14/20... Step: 1920... Loss: 1.3165... Val Loss: 1.3574\n",
      "Epoch: 14/20... Step: 1930... Loss: 1.2828... Val Loss: 1.3539\n",
      "Epoch: 14/20... Step: 1940... Loss: 1.3476... Val Loss: 1.3504\n",
      "Epoch: 15/20... Step: 1950... Loss: 1.3105... Val Loss: 1.3584\n",
      "Epoch: 15/20... Step: 1960... Loss: 1.3211... Val Loss: 1.3485\n",
      "Epoch: 15/20... Step: 1970... Loss: 1.3060... Val Loss: 1.3469\n",
      "Epoch: 15/20... Step: 1980... Loss: 1.3045... Val Loss: 1.3458\n",
      "Epoch: 15/20... Step: 1990... Loss: 1.3039... Val Loss: 1.3470\n",
      "Epoch: 15/20... Step: 2000... Loss: 1.2758... Val Loss: 1.3469\n",
      "Epoch: 15/20... Step: 2010... Loss: 1.3022... Val Loss: 1.3445\n",
      "Epoch: 15/20... Step: 2020... Loss: 1.3218... Val Loss: 1.3455\n",
      "Epoch: 15/20... Step: 2030... Loss: 1.2827... Val Loss: 1.3451\n",
      "Epoch: 15/20... Step: 2040... Loss: 1.3070... Val Loss: 1.3463\n",
      "Epoch: 15/20... Step: 2050... Loss: 1.2919... Val Loss: 1.3412\n",
      "Epoch: 15/20... Step: 2060... Loss: 1.2972... Val Loss: 1.3431\n",
      "Epoch: 15/20... Step: 2070... Loss: 1.3035... Val Loss: 1.3419\n",
      "Epoch: 15/20... Step: 2080... Loss: 1.3092... Val Loss: 1.3427\n",
      "Epoch: 16/20... Step: 2090... Loss: 1.2976... Val Loss: 1.3464\n",
      "Epoch: 16/20... Step: 2100... Loss: 1.2880... Val Loss: 1.3421\n",
      "Epoch: 16/20... Step: 2110... Loss: 1.2895... Val Loss: 1.3381\n",
      "Epoch: 16/20... Step: 2120... Loss: 1.2982... Val Loss: 1.3389\n",
      "Epoch: 16/20... Step: 2130... Loss: 1.2748... Val Loss: 1.3372\n",
      "Epoch: 16/20... Step: 2140... Loss: 1.2814... Val Loss: 1.3337\n",
      "Epoch: 16/20... Step: 2150... Loss: 1.3021... Val Loss: 1.3346\n",
      "Epoch: 16/20... Step: 2160... Loss: 1.2859... Val Loss: 1.3363\n",
      "Epoch: 16/20... Step: 2170... Loss: 1.2846... Val Loss: 1.3339\n",
      "Epoch: 16/20... Step: 2180... Loss: 1.2715... Val Loss: 1.3360\n",
      "Epoch: 16/20... Step: 2190... Loss: 1.2953... Val Loss: 1.3353\n",
      "Epoch: 16/20... Step: 2200... Loss: 1.2756... Val Loss: 1.3344\n",
      "Epoch: 16/20... Step: 2210... Loss: 1.2360... Val Loss: 1.3348\n",
      "Epoch: 16/20... Step: 2220... Loss: 1.2847... Val Loss: 1.3323\n",
      "Epoch: 17/20... Step: 2230... Loss: 1.2605... Val Loss: 1.3291\n",
      "Epoch: 17/20... Step: 2240... Loss: 1.2758... Val Loss: 1.3295\n",
      "Epoch: 17/20... Step: 2250... Loss: 1.2529... Val Loss: 1.3274\n",
      "Epoch: 17/20... Step: 2260... Loss: 1.2595... Val Loss: 1.3286\n",
      "Epoch: 17/20... Step: 2270... Loss: 1.2772... Val Loss: 1.3292\n",
      "Epoch: 17/20... Step: 2280... Loss: 1.2693... Val Loss: 1.3245\n",
      "Epoch: 17/20... Step: 2290... Loss: 1.2817... Val Loss: 1.3268\n",
      "Epoch: 17/20... Step: 2300... Loss: 1.2384... Val Loss: 1.3263\n",
      "Epoch: 17/20... Step: 2310... Loss: 1.2610... Val Loss: 1.3233\n",
      "Epoch: 17/20... Step: 2320... Loss: 1.2674... Val Loss: 1.3243\n",
      "Epoch: 17/20... Step: 2330... Loss: 1.2585... Val Loss: 1.3261\n",
      "Epoch: 17/20... Step: 2340... Loss: 1.2761... Val Loss: 1.3210\n",
      "Epoch: 17/20... Step: 2350... Loss: 1.2734... Val Loss: 1.3217\n",
      "Epoch: 17/20... Step: 2360... Loss: 1.2784... Val Loss: 1.3221\n",
      "Epoch: 18/20... Step: 2370... Loss: 1.2511... Val Loss: 1.3221\n",
      "Epoch: 18/20... Step: 2380... Loss: 1.2551... Val Loss: 1.3238\n",
      "Epoch: 18/20... Step: 2390... Loss: 1.2619... Val Loss: 1.3191\n",
      "Epoch: 18/20... Step: 2400... Loss: 1.2754... Val Loss: 1.3185\n",
      "Epoch: 18/20... Step: 2410... Loss: 1.2785... Val Loss: 1.3220\n",
      "Epoch: 18/20... Step: 2420... Loss: 1.2549... Val Loss: 1.3170\n",
      "Epoch: 18/20... Step: 2430... Loss: 1.2590... Val Loss: 1.3162\n",
      "Epoch: 18/20... Step: 2440... Loss: 1.2521... Val Loss: 1.3157\n",
      "Epoch: 18/20... Step: 2450... Loss: 1.2436... Val Loss: 1.3155\n",
      "Epoch: 18/20... Step: 2460... Loss: 1.2639... Val Loss: 1.3181\n",
      "Epoch: 18/20... Step: 2470... Loss: 1.2569... Val Loss: 1.3167\n",
      "Epoch: 18/20... Step: 2480... Loss: 1.2507... Val Loss: 1.3142\n",
      "Epoch: 18/20... Step: 2490... Loss: 1.2423... Val Loss: 1.3141\n",
      "Epoch: 18/20... Step: 2500... Loss: 1.2439... Val Loss: 1.3136\n",
      "Epoch: 19/20... Step: 2510... Loss: 1.2510... Val Loss: 1.3151\n",
      "Epoch: 19/20... Step: 2520... Loss: 1.2709... Val Loss: 1.3172\n",
      "Epoch: 19/20... Step: 2530... Loss: 1.2687... Val Loss: 1.3158\n",
      "Epoch: 19/20... Step: 2540... Loss: 1.2713... Val Loss: 1.3169\n",
      "Epoch: 19/20... Step: 2550... Loss: 1.2430... Val Loss: 1.3124\n",
      "Epoch: 19/20... Step: 2560... Loss: 1.2609... Val Loss: 1.3107\n",
      "Epoch: 19/20... Step: 2570... Loss: 1.2345... Val Loss: 1.3126\n",
      "Epoch: 19/20... Step: 2580... Loss: 1.2758... Val Loss: 1.3075\n",
      "Epoch: 19/20... Step: 2590... Loss: 1.2317... Val Loss: 1.3075\n",
      "Epoch: 19/20... Step: 2600... Loss: 1.2363... Val Loss: 1.3085\n",
      "Epoch: 19/20... Step: 2610... Loss: 1.2443... Val Loss: 1.3092\n",
      "Epoch: 19/20... Step: 2620... Loss: 1.2169... Val Loss: 1.3048\n",
      "Epoch: 19/20... Step: 2630... Loss: 1.2338... Val Loss: 1.3046\n"
     ]
    },
    {
     "name": "stdout",
     "output_type": "stream",
     "text": [
      "Epoch: 19/20... Step: 2640... Loss: 1.2475... Val Loss: 1.3052\n",
      "Epoch: 20/20... Step: 2650... Loss: 1.2538... Val Loss: 1.3123\n",
      "Epoch: 20/20... Step: 2660... Loss: 1.2527... Val Loss: 1.3089\n",
      "Epoch: 20/20... Step: 2670... Loss: 1.2673... Val Loss: 1.3060\n",
      "Epoch: 20/20... Step: 2680... Loss: 1.2420... Val Loss: 1.3069\n",
      "Epoch: 20/20... Step: 2690... Loss: 1.2459... Val Loss: 1.3073\n",
      "Epoch: 20/20... Step: 2700... Loss: 1.2373... Val Loss: 1.3024\n",
      "Epoch: 20/20... Step: 2710... Loss: 1.2203... Val Loss: 1.3000\n",
      "Epoch: 20/20... Step: 2720... Loss: 1.2225... Val Loss: 1.3031\n",
      "Epoch: 20/20... Step: 2730... Loss: 1.2136... Val Loss: 1.3034\n",
      "Epoch: 20/20... Step: 2740... Loss: 1.2093... Val Loss: 1.3034\n",
      "Epoch: 20/20... Step: 2750... Loss: 1.2267... Val Loss: 1.3042\n",
      "Epoch: 20/20... Step: 2760... Loss: 1.2120... Val Loss: 1.3017\n",
      "Epoch: 20/20... Step: 2770... Loss: 1.2448... Val Loss: 1.2986\n",
      "Epoch: 20/20... Step: 2780... Loss: 1.2764... Val Loss: 1.2983\n"
     ]
    }
   ],
   "source": [
    "batch_size = 128\n",
    "seq_length = 100\n",
    "n_epochs = 20 # start small if you are just testing initial behavior\n",
    "\n",
    "# train the model\n",
    "train(net, encoded, epochs=n_epochs, batch_size=batch_size, seq_length=seq_length, lr=0.001, print_every=10)"
   ]
  },
  {
   "cell_type": "markdown",
   "metadata": {},
   "source": [
    "## Getting the best model\n",
    "\n",
    "To set your hyperparameters to get the best performance, you'll want to watch the training and validation losses. If your training loss is much lower than the validation loss, you're overfitting. Increase regularization (more dropout) or use a smaller network. If the training and validation losses are close, you're underfitting so you can increase the size of the network."
   ]
  },
  {
   "cell_type": "markdown",
   "metadata": {},
   "source": [
    "## Hyperparameters\n",
    "\n",
    "Here are the hyperparameters for the network.\n",
    "\n",
    "In defining the model:\n",
    "* `n_hidden` - The number of units in the hidden layers.\n",
    "* `n_layers` - Number of hidden LSTM layers to use.\n",
    "\n",
    "We assume that dropout probability and learning rate will be kept at the default, in this example.\n",
    "\n",
    "And in training:\n",
    "* `batch_size` - Number of sequences running through the network in one pass.\n",
    "* `seq_length` - Number of characters in the sequence the network is trained on. Larger is better typically, the network will learn more long range dependencies. But it takes longer to train. 100 is typically a good number here.\n",
    "* `lr` - Learning rate for training\n",
    "\n",
    "Here's some good advice from Andrej Karpathy on training the network. I'm going to copy it in here for your benefit, but also link to [where it originally came from](https://github.com/karpathy/char-rnn#tips-and-tricks).\n",
    "\n",
    "> ## Tips and Tricks\n",
    "\n",
    ">### Monitoring Validation Loss vs. Training Loss\n",
    ">If you're somewhat new to Machine Learning or Neural Networks it can take a bit of expertise to get good models. The most important quantity to keep track of is the difference between your training loss (printed during training) and the validation loss (printed once in a while when the RNN is run on the validation data (by default every 1000 iterations)). In particular:\n",
    "\n",
    "> - If your training loss is much lower than validation loss then this means the network might be **overfitting**. Solutions to this are to decrease your network size, or to increase dropout. For example you could try dropout of 0.5 and so on.\n",
    "> - If your training/validation loss are about equal then your model is **underfitting**. Increase the size of your model (either number of layers or the raw number of neurons per layer)\n",
    "\n",
    "> ### Approximate number of parameters\n",
    "\n",
    "> The two most important parameters that control the model are `n_hidden` and `n_layers`. I would advise that you always use `n_layers` of either 2/3. The `n_hidden` can be adjusted based on how much data you have. The two important quantities to keep track of here are:\n",
    "\n",
    "> - The number of parameters in your model. This is printed when you start training.\n",
    "> - The size of your dataset. 1MB file is approximately 1 million characters.\n",
    "\n",
    ">These two should be about the same order of magnitude. It's a little tricky to tell. Here are some examples:\n",
    "\n",
    "> - I have a 100MB dataset and I'm using the default parameter settings (which currently print 150K parameters). My data size is significantly larger (100 mil >> 0.15 mil), so I expect to heavily underfit. I am thinking I can comfortably afford to make `n_hidden` larger.\n",
    "> - I have a 10MB dataset and running a 10 million parameter model. I'm slightly nervous and I'm carefully monitoring my validation loss. If it's larger than my training loss then I may want to try to increase dropout a bit and see if that helps the validation loss.\n",
    "\n",
    "> ### Best models strategy\n",
    "\n",
    ">The winning strategy to obtaining very good models (if you have the compute time) is to always err on making the network larger (as large as you're willing to wait for it to compute) and then try different dropout values (between 0,1). Whatever model has the best validation performance (the loss, written in the checkpoint filename, low is good) is the one you should use in the end.\n",
    "\n",
    ">It is very common in deep learning to run many different models with many different hyperparameter settings, and in the end take whatever checkpoint gave the best validation performance.\n",
    "\n",
    ">By the way, the size of your training and validation splits are also parameters. Make sure you have a decent amount of data in your validation set or otherwise the validation performance will be noisy and not very informative."
   ]
  },
  {
   "cell_type": "markdown",
   "metadata": {},
   "source": [
    "## Checkpoint\n",
    "\n",
    "After training, we'll save the model so we can load it again later if we need too. Here I'm saving the parameters needed to create the same architecture, the hidden layer hyperparameters and the text characters."
   ]
  },
  {
   "cell_type": "code",
   "execution_count": 22,
   "metadata": {},
   "outputs": [],
   "source": [
    "# change the name, for saving multiple files\n",
    "model_name = 'rnn_x_epoch.net'\n",
    "\n",
    "checkpoint = {'n_hidden': net.n_hidden,\n",
    "              'n_layers': net.n_layers,\n",
    "              'state_dict': net.state_dict(),\n",
    "              'tokens': net.chars}\n",
    "\n",
    "with open(model_name, 'wb') as f:\n",
    "    torch.save(checkpoint, f)"
   ]
  },
  {
   "cell_type": "markdown",
   "metadata": {},
   "source": [
    "---\n",
    "## Making Predictions\n",
    "\n",
    "Now that the model is trained, we'll want to sample from it and make predictions about next characters! To sample, we pass in a character and have the network predict the next character. Then we take that character, pass it back in, and get another predicted character. Just keep doing this and you'll generate a bunch of text!\n",
    "\n",
    "### A note on the `predict`  function\n",
    "\n",
    "The output of our RNN is from a fully-connected layer and it outputs a **distribution of next-character scores**.\n",
    "\n",
    "> To actually get the next character, we apply a softmax function, which gives us a *probability* distribution that we can then sample to predict the next character.\n",
    "\n",
    "### Top K sampling\n",
    "\n",
    "Our predictions come from a categorical probability distribution over all the possible characters. We can make the sample text and make it more reasonable to handle (with less variables) by only considering some $K$ most probable characters. This will prevent the network from giving us completely absurd characters while allowing it to introduce some noise and randomness into the sampled text. Read more about [topk, here](https://pytorch.org/docs/stable/torch.html#torch.topk).\n"
   ]
  },
  {
   "cell_type": "code",
   "execution_count": 23,
   "metadata": {},
   "outputs": [],
   "source": [
    "def predict(net, char, h=None, top_k=None):\n",
    "        ''' Given a character, predict the next character.\n",
    "            Returns the predicted character and the hidden state.\n",
    "        '''\n",
    "        \n",
    "        # tensor inputs\n",
    "        x = np.array([[net.char2int[char]]])\n",
    "        x = one_hot_encode(x, len(net.chars))\n",
    "        inputs = torch.from_numpy(x)\n",
    "        \n",
    "        if(train_on_gpu):\n",
    "            inputs = inputs.cuda()\n",
    "        \n",
    "        # detach hidden state from history\n",
    "        h = tuple([each.data for each in h])\n",
    "        # get the output of the model\n",
    "        out, h = net(inputs, h)\n",
    "\n",
    "        # get the character probabilities\n",
    "        p = F.softmax(out, dim=1).data\n",
    "        if(train_on_gpu):\n",
    "            p = p.cpu() # move to cpu\n",
    "        \n",
    "        # get top characters\n",
    "        if top_k is None:\n",
    "            top_ch = np.arange(len(net.chars))\n",
    "        else:\n",
    "            p, top_ch = p.topk(top_k)\n",
    "            top_ch = top_ch.numpy().squeeze()\n",
    "        \n",
    "        # select the likely next character with some element of randomness\n",
    "        p = p.numpy().squeeze()\n",
    "        char = np.random.choice(top_ch, p=p/p.sum())\n",
    "        \n",
    "        # return the encoded value of the predicted char and the hidden state\n",
    "        return net.int2char[char], h"
   ]
  },
  {
   "cell_type": "markdown",
   "metadata": {},
   "source": [
    "### Priming and generating text \n",
    "\n",
    "Typically you'll want to prime the network so you can build up a hidden state. Otherwise the network will start out generating characters at random. In general the first bunch of characters will be a little rough since it hasn't built up a long history of characters to predict from."
   ]
  },
  {
   "cell_type": "code",
   "execution_count": 24,
   "metadata": {},
   "outputs": [],
   "source": [
    "def sample(net, size, prime='The', top_k=None):\n",
    "        \n",
    "    if(train_on_gpu):\n",
    "        net.cuda()\n",
    "    else:\n",
    "        net.cpu()\n",
    "    \n",
    "    net.eval() # eval mode\n",
    "    \n",
    "    # First off, run through the prime characters\n",
    "    chars = [ch for ch in prime]\n",
    "    h = net.init_hidden(1)\n",
    "    for ch in prime:\n",
    "        char, h = predict(net, ch, h, top_k=top_k)\n",
    "\n",
    "    chars.append(char)\n",
    "    \n",
    "    # Now pass in the previous character and get a new one\n",
    "    for ii in range(size):\n",
    "        char, h = predict(net, chars[-1], h, top_k=top_k)\n",
    "        chars.append(char)\n",
    "\n",
    "    return ''.join(chars)"
   ]
  },
  {
   "cell_type": "code",
   "execution_count": 25,
   "metadata": {},
   "outputs": [
    {
     "name": "stdout",
     "output_type": "stream",
     "text": [
      "Anna, that his brother towards the footman several sonts on the condition of the first matter of the sick strength of their plans of the children, to a spockemed his children, and she was never told him, and asked her in his forest. And when she was at the committee\n",
      "with an emore cartition of her, he was standing too. They shaked in\n",
      "the morning--with his wife, the same,\n",
      "the carriage out the memory, and had\n",
      "alled to him, and at the moting\n",
      "condition of the servants, always for interrieching her.\n",
      "\n",
      "And would not\n",
      "come in and thoughts he was a stall and serious senteres on the sound of the children at his head.\n",
      "\n",
      "\"I have seen it,\" he said, and he would say to\n",
      "see the straight in her eyes of a\n",
      "strange with the\n",
      "midet.\n",
      "\n",
      "The crest answered and his shoulders\n",
      "said in the matter, and trying\n",
      "to be tearful.\n",
      "\n",
      "\"I did not know them the portrait of her friend,\" he said, smiling, with a book\n",
      "was a spiritual position, and had\n",
      "the same table of his wife.\n",
      "\n",
      "\"Yes, then, in the peasants of answer, what is so tree and\n"
     ]
    }
   ],
   "source": [
    "print(sample(net, 1000, prime='Anna', top_k=5))"
   ]
  },
  {
   "cell_type": "markdown",
   "metadata": {},
   "source": [
    "## Loading a checkpoint"
   ]
  },
  {
   "cell_type": "code",
   "execution_count": 26,
   "metadata": {},
   "outputs": [
    {
     "data": {
      "text/plain": [
       "IncompatibleKeys(missing_keys=[], unexpected_keys=[])"
      ]
     },
     "execution_count": 26,
     "metadata": {},
     "output_type": "execute_result"
    }
   ],
   "source": [
    "# Here we have loaded in a model that trained over 20 epochs `rnn_20_epoch.net`\n",
    "with open('rnn_x_epoch.net', 'rb') as f:\n",
    "    checkpoint = torch.load(f)\n",
    "    \n",
    "loaded = CharRNN(checkpoint['tokens'], n_hidden=checkpoint['n_hidden'], n_layers=checkpoint['n_layers'])\n",
    "loaded.load_state_dict(checkpoint['state_dict'])"
   ]
  },
  {
   "cell_type": "code",
   "execution_count": 27,
   "metadata": {},
   "outputs": [
    {
     "name": "stdout",
     "output_type": "stream",
     "text": [
      "And Levin said and strong, but and tried the carestace and steps. Though she was saying the belieff and\n",
      "was in the country\n",
      "who was the first money to him. He was the feeling\n",
      "to all strengthen at herself, the province.\n",
      "\n",
      "He could not be asked her that he saw\n",
      "it in the\n",
      "most\n",
      "pointing\n",
      "with any might be angry on this convincions.\n",
      "\n",
      "\"What are you any tentrream of their mother! I should have saying, as a sunden what I want?\"\n",
      "\n",
      "\"Where it\n",
      "say? When I have to think,\" said Levin. \"The candent of the marshals,\" said their family, with\n",
      "his\n",
      "soft.\n",
      "\n",
      "She saw that this was a colonel would have\n",
      "there, but as she had\n",
      "been\n",
      "thoughts in a point.\n",
      "\n",
      "He would nover suppose that he said she had no more\n",
      "at happoness of\n",
      "conscainion when he had anything was attacked, because she could not be changed\n",
      "to see it, and that the chair\n",
      "to the meeting, that was sincere,\n",
      "had strongen his feat. Terrible the children he was the part in the country and her\n",
      "convensed, and when\n",
      "they say she\n",
      "could not see him to the country as he had at the table. The sight of the conversation had said he\n",
      "was sitting on them to be in a courded\n",
      "and walked, and that she had been ansincing his sold work, while the secretary on his way, with a bale from those\n",
      "companishod their condreastical charritas of their honorabye of his hands, brought\n",
      "in his\n",
      "sort of a previaut of talking, was\n",
      "that all at once anything with a present and\n",
      "talking with the second opposition, and she was as she had now broken out the position of three manners in his, he said.\n",
      "\n",
      "\"I can't see it as yes, that you see her is\n",
      "so meen it to her?\" she asked the study of the sears of\n",
      "time and the clutching side, she heard indeed the same thing. Stepan Arkadyevitch\n",
      "sat did not answer, and took\n",
      "at the\n",
      "stempther house, and was angry in the parts of a comprehension on what he was\n",
      "saying and his fine station of the position of his face. She cannat her saying as he was satisfied in the delight.\n",
      "\n",
      "She had not tell it in his foreat at the carestic of him. To see his side, he had succeeded to him to\n"
     ]
    }
   ],
   "source": [
    "# Sample using a loaded model\n",
    "print(sample(loaded, 2000, top_k=5, prime=\"And Levin said\"))"
   ]
  },
  {
   "cell_type": "code",
   "execution_count": null,
   "metadata": {
    "collapsed": true
   },
   "outputs": [],
   "source": []
  }
 ],
 "metadata": {
  "kernelspec": {
   "display_name": "Python 3",
   "language": "python",
   "name": "python3"
  },
  "language_info": {
   "codemirror_mode": {
    "name": "ipython",
    "version": 3
   },
   "file_extension": ".py",
   "mimetype": "text/x-python",
   "name": "python",
   "nbconvert_exporter": "python",
   "pygments_lexer": "ipython3",
   "version": "3.6.8"
  }
 },
 "nbformat": 4,
 "nbformat_minor": 2
}
