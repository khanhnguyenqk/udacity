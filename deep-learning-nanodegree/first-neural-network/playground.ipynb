{
 "cells": [
  {
   "cell_type": "code",
   "execution_count": 20,
   "metadata": {},
   "outputs": [
    {
     "name": "stdout",
     "output_type": "stream",
     "text": [
      "(6, 1)\n",
      "[[ 2  3]\n",
      " [ 4  6]\n",
      " [ 6  9]\n",
      " [ 8 12]\n",
      " [10 15]\n",
      " [12 18]]\n",
      "[[ 2  3]\n",
      " [ 4  6]\n",
      " [ 6  9]\n",
      " [ 8 12]\n",
      " [10 15]\n",
      " [12 18]]\n"
     ]
    }
   ],
   "source": [
    "import numpy as np\n",
    "\n",
    "weights = np.array([1, 2, 3, 4, 5, 6]).reshape(6, 1)\n",
    "print(weights.shape)\n",
    "\n",
    "print(np.array([2, 3]) * weights)\n",
    "print(np.matmul(weights, np.array([2, 3])[None,:]))"
   ]
  }
 ],
 "metadata": {
  "kernelspec": {
   "display_name": "Python 3",
   "language": "python",
   "name": "python3"
  },
  "language_info": {
   "codemirror_mode": {
    "name": "ipython",
    "version": 3
   },
   "file_extension": ".py",
   "mimetype": "text/x-python",
   "name": "python",
   "nbconvert_exporter": "python",
   "pygments_lexer": "ipython3",
   "version": "3.6.3"
  }
 },
 "nbformat": 4,
 "nbformat_minor": 2
}
